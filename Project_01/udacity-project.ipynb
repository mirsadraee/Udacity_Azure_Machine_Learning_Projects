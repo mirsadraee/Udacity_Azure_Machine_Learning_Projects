{
  "cells": [
    {
      "cell_type": "code",
      "execution_count": 2,
      "metadata": {
        "gather": {
          "logged": 1677095849919
        }
      },
      "outputs": [
        {
          "name": "stdout",
          "output_type": "stream",
          "text": [
            "Workspace name: quick-starts-ws-226641\n",
            "Azure region: northcentralus\n",
            "Subscription id: 61c5c3f0-6dc7-4ed9-a7f3-c704b20e3b30\n",
            "Resource group: aml-quickstarts-226641\n"
          ]
        }
      ],
      "source": [
        "from azureml.core import Workspace, Experiment\n",
        "\n",
        "ws = Workspace.from_config()\n",
        "exp = Experiment(workspace=ws, name=\"udacity-project\")\n",
        "\n",
        "print('Workspace name: ' + ws.name, \n",
        "      'Azure region: ' + ws.location, \n",
        "      'Subscription id: ' + ws.subscription_id, \n",
        "      'Resource group: ' + ws.resource_group, sep = '\\n')\n",
        "\n",
        "run = exp.start_logging()"
      ]
    },
    {
      "cell_type": "code",
      "execution_count": 3,
      "metadata": {
        "gather": {
          "logged": 1677095868683
        },
        "jupyter": {
          "outputs_hidden": false,
          "source_hidden": false
        },
        "nteract": {
          "transient": {
            "deleting": false
          }
        }
      },
      "outputs": [
        {
          "name": "stdout",
          "output_type": "stream",
          "text": [
            "An new cluster will be created now!\n",
            "InProgress..\n",
            "SucceededProvisioning operation finished, operation \"Succeeded\"\n",
            "Succeeded\n",
            "AmlCompute wait for completion finished\n",
            "\n",
            "Minimum number of nodes requested have been provisioned\n"
          ]
        }
      ],
      "source": [
        "from azureml.core.compute import ComputeTarget, AmlCompute\n",
        "from azureml.core.compute_target import ComputeTargetException\n",
        "\n",
        "# Choose a name for your CPU cluster\n",
        "cluster_name = \"compute-cluster\"\n",
        "\n",
        "# TODO: Create compute cluster\n",
        "# Use vm_size = \"Standard_D2_V2\" in your provisioning configuration.\n",
        "# max_nodes should be no greater than 4.\n",
        "\n",
        "try:\n",
        "    aml_compute = ComputeTarget(workspace=ws, name=cluster_name)\n",
        "    print('An existing cluster will be used!')\n",
        "except ComputeTargetException:\n",
        "    compute_config = AmlCompute.provisioning_configuration(vm_size='Standard_D2_V2', max_nodes=4)\n",
        "    aml_compute = ComputeTarget.create(ws, cluster_name, compute_config)\n",
        "    print('An new cluster will be created now!')\n",
        "\n",
        "aml_compute.wait_for_completion(show_output=True)"
      ]
    },
    {
      "cell_type": "code",
      "execution_count": 7,
      "metadata": {
        "gather": {
          "logged": 1677096111718
        },
        "jupyter": {
          "outputs_hidden": false,
          "source_hidden": false
        },
        "nteract": {
          "transient": {
            "deleting": false
          }
        }
      },
      "outputs": [
        {
          "name": "stdout",
          "output_type": "stream",
          "text": [
            "Collecting azureml-train-automl-runtime\n",
            "  Using cached azureml_train_automl_runtime-1.49.0-py3-none-any.whl (338 kB)\n",
            "Collecting azureml-automl-core~=1.49.0\n",
            "  Using cached azureml_automl_core-1.49.0-py3-none-any.whl (244 kB)\n",
            "Collecting azureml-automl-runtime~=1.49.0\n",
            "  Using cached azureml_automl_runtime-1.49.0-py3-none-any.whl (1.8 MB)\n",
            "Collecting lightgbm<=3.2.1,>=2.0.11\n",
            "  Downloading lightgbm-3.2.1-py3-none-manylinux1_x86_64.whl (2.0 MB)\n",
            "\u001b[2K     \u001b[90m━━━━━━━━━━━━━━━━━━━━━━━━━━━━━━━━━━━━━━━━\u001b[0m \u001b[32m2.0/2.0 MB\u001b[0m \u001b[31m35.8 MB/s\u001b[0m eta \u001b[36m0:00:00\u001b[0m00:01\u001b[0m\n",
            "\u001b[?25hCollecting onnxmltools==1.4.1\n",
            "  Downloading onnxmltools-1.4.1-py2.py3-none-any.whl (371 kB)\n",
            "\u001b[2K     \u001b[90m━━━━━━━━━━━━━━━━━━━━━━━━━━━━━━━━━━━━━━\u001b[0m \u001b[32m371.5/371.5 kB\u001b[0m \u001b[31m17.3 MB/s\u001b[0m eta \u001b[36m0:00:00\u001b[0m\n",
            "\u001b[?25hCollecting smart-open<=1.9.0\n",
            "  Downloading smart_open-1.9.0.tar.gz (70 kB)\n",
            "\u001b[2K     \u001b[90m━━━━━━━━━━━━━━━━━━━━━━━━━━━━━━━━━━━━━━━━\u001b[0m \u001b[32m70.6/70.6 kB\u001b[0m \u001b[31m5.7 MB/s\u001b[0m eta \u001b[36m0:00:00\u001b[0m\n",
            "\u001b[?25h  Preparing metadata (setup.py) ... \u001b[?25l-\b \b\\\b \b|\b \b/\b \bdone\n",
            "\u001b[?25hCollecting pandas==1.1.5\n",
            "  Downloading pandas-1.1.5-cp38-cp38-manylinux1_x86_64.whl (9.3 MB)\n",
            "\u001b[2K     \u001b[90m━━━━━━━━━━━━━━━━━━━━━━━━━━━━━━━━━━━━━━━━\u001b[0m \u001b[32m9.3/9.3 MB\u001b[0m \u001b[31m46.0 MB/s\u001b[0m eta \u001b[36m0:00:00\u001b[0m00:01\u001b[0m00:01\u001b[0m\n",
            "\u001b[?25hCollecting skl2onnx==1.4.9\n",
            "  Downloading skl2onnx-1.4.9-py2.py3-none-any.whl (114 kB)\n",
            "\u001b[2K     \u001b[90m━━━━━━━━━━━━━━━━━━━━━━━━━━━━━━━━━━━━━━━\u001b[0m \u001b[32m114.6/114.6 kB\u001b[0m \u001b[31m9.0 MB/s\u001b[0m eta \u001b[36m0:00:00\u001b[0m\n",
            "\u001b[?25hCollecting azure-storage-queue~=12.1\n",
            "  Downloading azure_storage_queue-12.5.0-py3-none-any.whl (167 kB)\n",
            "\u001b[2K     \u001b[90m━━━━━━━━━━━━━━━━━━━━━━━━━━━━━━━━━━━━━━\u001b[0m \u001b[32m167.3/167.3 kB\u001b[0m \u001b[31m13.2 MB/s\u001b[0m eta \u001b[36m0:00:00\u001b[0m\n",
            "\u001b[?25hCollecting onnxconverter-common<=1.6.0,>=1.4.2\n",
            "  Downloading onnxconverter_common-1.6.0-py2.py3-none-any.whl (43 kB)\n",
            "\u001b[2K     \u001b[90m━━━━━━━━━━━━━━━━━━━━━━━━━━━━━━━━━━━━━━━━\u001b[0m \u001b[32m43.2/43.2 kB\u001b[0m \u001b[31m2.2 MB/s\u001b[0m eta \u001b[36m0:00:00\u001b[0m\n",
            "\u001b[?25hCollecting keras2onnx<=1.6.0,>=1.4.0\n",
            "  Downloading keras2onnx-1.6.0-py3-none-any.whl (219 kB)\n",
            "\u001b[2K     \u001b[90m━━━━━━━━━━━━━━━━━━━━━━━━━━━━━━━━━━━━━━\u001b[0m \u001b[32m219.8/219.8 kB\u001b[0m \u001b[31m15.6 MB/s\u001b[0m eta \u001b[36m0:00:00\u001b[0m\n",
            "\u001b[?25hCollecting azureml-interpret~=1.49.0\n",
            "  Using cached azureml_interpret-1.49.0-py3-none-any.whl (52 kB)\n",
            "Collecting numpy<=1.22.3,>=1.16.0\n",
            "  Downloading numpy-1.22.3-cp38-cp38-manylinux_2_17_x86_64.manylinux2014_x86_64.whl (16.8 MB)\n",
            "\u001b[2K     \u001b[90m━━━━━━━━━━━━━━━━━━━━━━━━━━━━━━━━━━━━━━━━\u001b[0m \u001b[32m16.8/16.8 MB\u001b[0m \u001b[31m38.2 MB/s\u001b[0m eta \u001b[36m0:00:00\u001b[0m00:01\u001b[0m00:01\u001b[0m\n",
            "\u001b[?25hCollecting azureml-core~=1.49.0\n",
            "  Using cached azureml_core-1.49.0-py3-none-any.whl (3.3 MB)\n",
            "Collecting onnx<=1.12.0,>=1.6.0\n",
            "  Downloading onnx-1.12.0-cp38-cp38-manylinux_2_17_x86_64.manylinux2014_x86_64.whl (13.1 MB)\n",
            "\u001b[2K     \u001b[90m━━━━━━━━━━━━━━━━━━━━━━━━━━━━━━━━━━━━━━━━\u001b[0m \u001b[32m13.1/13.1 MB\u001b[0m \u001b[31m49.3 MB/s\u001b[0m eta \u001b[36m0:00:00\u001b[0m00:01\u001b[0m0:01\u001b[0m\n",
            "\u001b[?25hCollecting botocore<=1.23.19\n",
            "  Downloading botocore-1.23.19-py3-none-any.whl (8.4 MB)\n",
            "\u001b[2K     \u001b[90m━━━━━━━━━━━━━━━━━━━━━━━━━━━━━━━━━━━━━━━━\u001b[0m \u001b[32m8.4/8.4 MB\u001b[0m \u001b[31m52.1 MB/s\u001b[0m eta \u001b[36m0:00:00\u001b[0m00:01\u001b[0m00:01\u001b[0m\n",
            "\u001b[?25hCollecting dask[complete]<=2021.6.0\n",
            "  Downloading dask-2021.6.0-py3-none-any.whl (965 kB)\n",
            "\u001b[2K     \u001b[90m━━━━━━━━━━━━━━━━━━━━━━━━━━━━━━━━━━━━━━\u001b[0m \u001b[32m965.6/965.6 kB\u001b[0m \u001b[31m26.9 MB/s\u001b[0m eta \u001b[36m0:00:00\u001b[0m00:01\u001b[0m\n",
            "\u001b[?25hRequirement already satisfied: scipy<=1.5.3,>=1.0.0 in /anaconda/envs/jupyter_env/lib/python3.8/site-packages (from azureml-train-automl-runtime) (1.5.3)\n",
            "Collecting boto3<=1.20.19\n",
            "  Downloading boto3-1.20.19-py3-none-any.whl (131 kB)\n",
            "\u001b[2K     \u001b[90m━━━━━━━━━━━━━━━━━━━━━━━━━━━━━━━━━━━━━━━\u001b[0m \u001b[32m131.8/131.8 kB\u001b[0m \u001b[31m7.0 MB/s\u001b[0m eta \u001b[36m0:00:00\u001b[0m\n",
            "\u001b[?25hCollecting scikit-learn<0.23.0,>=0.19.0\n",
            "  Downloading scikit_learn-0.22.2.post1-cp38-cp38-manylinux1_x86_64.whl (7.0 MB)\n",
            "\u001b[2K     \u001b[90m━━━━━━━━━━━━━━━━━━━━━━━━━━━━━━━━━━━━━━━━\u001b[0m \u001b[32m7.0/7.0 MB\u001b[0m \u001b[31m11.8 MB/s\u001b[0m eta \u001b[36m0:00:00\u001b[0m:00:01\u001b[0m00:01\u001b[0m\n",
            "\u001b[?25hCollecting sklearn-pandas<=1.7.0,>=1.4.0\n",
            "  Downloading sklearn_pandas-1.7.0-py2.py3-none-any.whl (10 kB)\n",
            "Collecting azureml-mlflow~=1.49.0\n",
            "  Using cached azureml_mlflow-1.49.0-py3-none-any.whl (812 kB)\n",
            "Collecting azureml-train-automl-client~=1.49.0\n",
            "  Using cached azureml_train_automl_client-1.49.0-py3-none-any.whl (135 kB)\n",
            "Collecting azureml-dataset-runtime[fuse,pandas]~=1.49.0\n",
            "  Using cached azureml_dataset_runtime-1.49.0-py3-none-any.whl (2.3 kB)\n",
            "Collecting azureml-telemetry~=1.49.0\n",
            "  Using cached azureml_telemetry-1.49.0-py3-none-any.whl (30 kB)\n",
            "Requirement already satisfied: jinja2<4 in /anaconda/envs/jupyter_env/lib/python3.8/site-packages (from azureml-train-automl-runtime) (3.0.3)\n",
            "Collecting bokeh<3.0.0\n",
            "  Downloading bokeh-2.4.3-py3-none-any.whl (18.5 MB)\n",
            "\u001b[2K     \u001b[90m━━━━━━━━━━━━━━━━━━━━━━━━━━━━━━━━━━━━━━━━\u001b[0m \u001b[32m18.5/18.5 MB\u001b[0m \u001b[31m39.7 MB/s\u001b[0m eta \u001b[36m0:00:00\u001b[0m00:01\u001b[0m00:01\u001b[0m\n",
            "\u001b[?25hCollecting gensim<3.9.0\n",
            "  Downloading gensim-3.8.3-cp38-cp38-manylinux1_x86_64.whl (24.2 MB)\n",
            "\u001b[2K     \u001b[90m━━━━━━━━━━━━━━━━━━━━━━━━━━━━━━━━━━━━━━━━\u001b[0m \u001b[32m24.2/24.2 MB\u001b[0m \u001b[31m33.2 MB/s\u001b[0m eta \u001b[36m0:00:00\u001b[0m00:01\u001b[0m00:01\u001b[0m\n",
            "\u001b[?25hCollecting onnxruntime<=1.11.1,>=1.3.0\n",
            "  Downloading onnxruntime-1.11.1-cp38-cp38-manylinux_2_17_x86_64.manylinux2014_x86_64.whl (5.2 MB)\n",
            "\u001b[2K     \u001b[90m━━━━━━━━━━━━━━━━━━━━━━━━━━━━━━━━━━━━━━━━\u001b[0m \u001b[32m5.2/5.2 MB\u001b[0m \u001b[31m49.6 MB/s\u001b[0m eta \u001b[36m0:00:00\u001b[0m:00:01\u001b[0m00:01\u001b[0m\n",
            "\u001b[?25hCollecting statsmodels<0.12,>=0.11.0\n",
            "  Downloading statsmodels-0.11.1-cp38-cp38-manylinux1_x86_64.whl (8.7 MB)\n",
            "\u001b[2K     \u001b[90m━━━━━━━━━━━━━━━━━━━━━━━━━━━━━━━━━━━━━━━━\u001b[0m \u001b[32m8.7/8.7 MB\u001b[0m \u001b[31m55.7 MB/s\u001b[0m eta \u001b[36m0:00:00\u001b[0m00:01\u001b[0m00:01\u001b[0m\n",
            "\u001b[?25hRequirement already satisfied: six in /anaconda/envs/jupyter_env/lib/python3.8/site-packages (from onnxmltools==1.4.1->azureml-train-automl-runtime) (1.16.0)\n",
            "Requirement already satisfied: protobuf in /anaconda/envs/jupyter_env/lib/python3.8/site-packages (from onnxmltools==1.4.1->azureml-train-automl-runtime) (3.20.3)\n",
            "Requirement already satisfied: python-dateutil>=2.7.3 in /anaconda/envs/jupyter_env/lib/python3.8/site-packages (from pandas==1.1.5->azureml-train-automl-runtime) (2.8.2)\n",
            "Requirement already satisfied: pytz>=2017.2 in /anaconda/envs/jupyter_env/lib/python3.8/site-packages (from pandas==1.1.5->azureml-train-automl-runtime) (2022.5)\n",
            "Requirement already satisfied: msrest>=0.7.1 in /anaconda/envs/jupyter_env/lib/python3.8/site-packages (from azure-storage-queue~=12.1->azureml-train-automl-runtime) (0.7.1)\n",
            "Requirement already satisfied: azure-core<2.0.0,>=1.24.2 in /anaconda/envs/jupyter_env/lib/python3.8/site-packages (from azure-storage-queue~=12.1->azureml-train-automl-runtime) (1.26.2)\n",
            "Requirement already satisfied: cryptography>=2.1.4 in /anaconda/envs/jupyter_env/lib/python3.8/site-packages (from azure-storage-queue~=12.1->azureml-train-automl-runtime) (38.0.4)\n",
            "Collecting dataclasses<=0.8,>=0.6\n",
            "  Downloading dataclasses-0.6-py3-none-any.whl (14 kB)\n",
            "Requirement already satisfied: psutil<6.0.0,>=5.2.2 in /anaconda/envs/jupyter_env/lib/python3.8/site-packages (from azureml-automl-runtime~=1.49.0->azureml-train-automl-runtime) (5.9.4)\n",
            "Collecting dill<0.4.0,>=0.2.8\n",
            "  Downloading dill-0.3.6-py3-none-any.whl (110 kB)\n",
            "\u001b[2K     \u001b[90m━━━━━━━━━━━━━━━━━━━━━━━━━━━━━━━━━━━━━━\u001b[0m \u001b[32m110.5/110.5 kB\u001b[0m \u001b[31m10.2 MB/s\u001b[0m eta \u001b[36m0:00:00\u001b[0m\n",
            "\u001b[?25hCollecting azureml-training-tabular~=1.49.0\n",
            "  Using cached azureml_training_tabular-1.49.0-py3-none-any.whl (1.7 MB)\n",
            "Collecting pmdarima==1.7.1\n",
            "  Downloading pmdarima-1.7.1-cp38-cp38-manylinux1_x86_64.whl (1.5 MB)\n",
            "\u001b[2K     \u001b[90m━━━━━━━━━━━━━━━━━━━━━━━━━━━━━━━━━━━━━━━━\u001b[0m \u001b[32m1.5/1.5 MB\u001b[0m \u001b[31m44.6 MB/s\u001b[0m eta \u001b[36m0:00:00\u001b[0m\n",
            "\u001b[?25hCollecting arch<=5.3.1\n",
            "  Downloading arch-5.3.1-cp38-cp38-manylinux_2_17_x86_64.manylinux2014_x86_64.whl (907 kB)\n",
            "\u001b[2K     \u001b[90m━━━━━━━━━━━━━━━━━━━━━━━━━━━━━━━━━━━━━━\u001b[0m \u001b[32m907.3/907.3 kB\u001b[0m \u001b[31m35.0 MB/s\u001b[0m eta \u001b[36m0:00:00\u001b[0m\n",
            "\u001b[?25hCollecting protobuf\n",
            "  Downloading protobuf-3.20.1-cp38-cp38-manylinux_2_5_x86_64.manylinux1_x86_64.whl (1.0 MB)\n",
            "\u001b[2K     \u001b[90m━━━━━━━━━━━━━━━━━━━━━━━━━━━━━━━━━━━━━━━━\u001b[0m \u001b[32m1.0/1.0 MB\u001b[0m \u001b[31m19.4 MB/s\u001b[0m eta \u001b[36m0:00:00\u001b[0m00:01\u001b[0m\n",
            "\u001b[?25hRequirement already satisfied: dotnetcore2<4.0.0,>=3.0.0 in /anaconda/envs/jupyter_env/lib/python3.8/site-packages (from azureml-automl-runtime~=1.49.0->azureml-train-automl-runtime) (3.1.23)\n",
            "Collecting joblib==0.14.1\n",
            "  Downloading joblib-0.14.1-py2.py3-none-any.whl (294 kB)\n",
            "\u001b[2K     \u001b[90m━━━━━━━━━━━━━━━━━━━━━━━━━━━━━━━━━━━━━━\u001b[0m \u001b[32m294.9/294.9 kB\u001b[0m \u001b[31m18.1 MB/s\u001b[0m eta \u001b[36m0:00:00\u001b[0m\n",
            "\u001b[?25hRequirement already satisfied: urllib3 in /anaconda/envs/jupyter_env/lib/python3.8/site-packages (from pmdarima==1.7.1->azureml-automl-runtime~=1.49.0->azureml-train-automl-runtime) (1.26.14)\n",
            "Collecting setuptools<50.0.0\n",
            "  Downloading setuptools-49.6.0-py3-none-any.whl (803 kB)\n",
            "\u001b[2K     \u001b[90m━━━━━━━━━━━━━━━━━━━━━━━━━━━━━━━━━━━━━━\u001b[0m \u001b[32m803.3/803.3 kB\u001b[0m \u001b[31m28.5 MB/s\u001b[0m eta \u001b[36m0:00:00\u001b[0m\n",
            "\u001b[?25hCollecting Cython<0.29.18,>=0.29\n",
            "  Downloading Cython-0.29.17-cp38-cp38-manylinux1_x86_64.whl (2.0 MB)\n",
            "\u001b[2K     \u001b[90m━━━━━━━━━━━━━━━━━━━━━━━━━━━━━━━━━━━━━━━━\u001b[0m \u001b[32m2.0/2.0 MB\u001b[0m \u001b[31m38.2 MB/s\u001b[0m eta \u001b[36m0:00:00\u001b[0m00:01\u001b[0m\n",
            "\u001b[?25hRequirement already satisfied: jmespath<2.0.0 in /anaconda/envs/jupyter_env/lib/python3.8/site-packages (from azureml-core~=1.49.0->azureml-train-automl-runtime) (1.0.1)\n",
            "Requirement already satisfied: humanfriendly<11.0,>=4.7 in /anaconda/envs/jupyter_env/lib/python3.8/site-packages (from azureml-core~=1.49.0->azureml-train-automl-runtime) (10.0)\n",
            "Requirement already satisfied: azure-mgmt-authorization<4,>=0.40.0 in /anaconda/envs/jupyter_env/lib/python3.8/site-packages (from azureml-core~=1.49.0->azureml-train-automl-runtime) (3.0.0)\n",
            "Requirement already satisfied: azure-mgmt-resource<22.0.0,>=15.0.0 in /anaconda/envs/jupyter_env/lib/python3.8/site-packages (from azureml-core~=1.49.0->azureml-train-automl-runtime) (21.2.1)\n",
            "Requirement already satisfied: azure-graphrbac<1.0.0,>=0.40.0 in /anaconda/envs/jupyter_env/lib/python3.8/site-packages (from azureml-core~=1.49.0->azureml-train-automl-runtime) (0.61.1)\n",
            "Requirement already satisfied: pyopenssl<24.0.0 in /anaconda/envs/jupyter_env/lib/python3.8/site-packages (from azureml-core~=1.49.0->azureml-train-automl-runtime) (22.1.0)\n",
            "Requirement already satisfied: azure-mgmt-keyvault<11.0.0,>=0.40.0 in /anaconda/envs/jupyter_env/lib/python3.8/site-packages (from azureml-core~=1.49.0->azureml-train-automl-runtime) (10.1.0)\n",
            "Requirement already satisfied: contextlib2<22.0.0 in /anaconda/envs/jupyter_env/lib/python3.8/site-packages (from azureml-core~=1.49.0->azureml-train-automl-runtime) (21.6.0)\n",
            "Requirement already satisfied: docker<7.0.0 in /anaconda/envs/jupyter_env/lib/python3.8/site-packages (from azureml-core~=1.49.0->azureml-train-automl-runtime) (6.0.1)\n",
            "Requirement already satisfied: jsonpickle<3.0.0 in /anaconda/envs/jupyter_env/lib/python3.8/site-packages (from azureml-core~=1.49.0->azureml-train-automl-runtime) (2.2.0)\n",
            "Requirement already satisfied: packaging<22.0,>=20.0 in /anaconda/envs/jupyter_env/lib/python3.8/site-packages (from azureml-core~=1.49.0->azureml-train-automl-runtime) (21.3)\n",
            "Requirement already satisfied: SecretStorage<4.0.0 in /anaconda/envs/jupyter_env/lib/python3.8/site-packages (from azureml-core~=1.49.0->azureml-train-automl-runtime) (3.3.3)\n",
            "Requirement already satisfied: azure-mgmt-storage<21.0.0,>=16.0.0 in /anaconda/envs/jupyter_env/lib/python3.8/site-packages (from azureml-core~=1.49.0->azureml-train-automl-runtime) (20.1.0)\n",
            "Requirement already satisfied: argcomplete<3 in /anaconda/envs/jupyter_env/lib/python3.8/site-packages (from azureml-core~=1.49.0->azureml-train-automl-runtime) (2.0.0)\n",
            "Requirement already satisfied: pkginfo in /anaconda/envs/jupyter_env/lib/python3.8/site-packages (from azureml-core~=1.49.0->azureml-train-automl-runtime) (1.9.6)\n",
            "Requirement already satisfied: requests[socks]<3.0.0,>=2.19.1 in /anaconda/envs/jupyter_env/lib/python3.8/site-packages (from azureml-core~=1.49.0->azureml-train-automl-runtime) (2.28.2)\n",
            "Requirement already satisfied: msrestazure<=0.6.4,>=0.4.33 in /anaconda/envs/jupyter_env/lib/python3.8/site-packages (from azureml-core~=1.49.0->azureml-train-automl-runtime) (0.6.4)\n",
            "Requirement already satisfied: ndg-httpsclient<=0.5.1 in /anaconda/envs/jupyter_env/lib/python3.8/site-packages (from azureml-core~=1.49.0->azureml-train-automl-runtime) (0.5.1)\n",
            "Requirement already satisfied: backports.tempfile in /anaconda/envs/jupyter_env/lib/python3.8/site-packages (from azureml-core~=1.49.0->azureml-train-automl-runtime) (1.0)\n",
            "Requirement already satisfied: azure-common<2.0.0,>=1.1.12 in /anaconda/envs/jupyter_env/lib/python3.8/site-packages (from azureml-core~=1.49.0->azureml-train-automl-runtime) (1.1.28)\n",
            "Requirement already satisfied: PyJWT<3.0.0 in /anaconda/envs/jupyter_env/lib/python3.8/site-packages (from azureml-core~=1.49.0->azureml-train-automl-runtime) (2.6.0)\n",
            "Requirement already satisfied: knack~=0.10.0 in /anaconda/envs/jupyter_env/lib/python3.8/site-packages (from azureml-core~=1.49.0->azureml-train-automl-runtime) (0.10.1)\n",
            "Requirement already satisfied: msal<2.0.0,>=1.15.0 in /anaconda/envs/jupyter_env/lib/python3.8/site-packages (from azureml-core~=1.49.0->azureml-train-automl-runtime) (1.20.0)\n",
            "Requirement already satisfied: msal-extensions<=1.0.0,>=0.3.0 in /anaconda/envs/jupyter_env/lib/python3.8/site-packages (from azureml-core~=1.49.0->azureml-train-automl-runtime) (1.0.0)\n",
            "Requirement already satisfied: paramiko<3.0.0,>=2.0.8 in /anaconda/envs/jupyter_env/lib/python3.8/site-packages (from azureml-core~=1.49.0->azureml-train-automl-runtime) (2.12.0)\n",
            "Requirement already satisfied: adal<=1.2.7,>=1.2.0 in /anaconda/envs/jupyter_env/lib/python3.8/site-packages (from azureml-core~=1.49.0->azureml-train-automl-runtime) (1.2.7)\n",
            "Requirement already satisfied: pathspec<1.0.0 in /anaconda/envs/jupyter_env/lib/python3.8/site-packages (from azureml-core~=1.49.0->azureml-train-automl-runtime) (0.10.3)\n",
            "Requirement already satisfied: azure-mgmt-containerregistry<11,>=8.2.0 in /anaconda/envs/jupyter_env/lib/python3.8/site-packages (from azureml-core~=1.49.0->azureml-train-automl-runtime) (10.0.0)\n",
            "Collecting pyarrow<=9.0.0,>=0.17.0\n",
            "  Downloading pyarrow-9.0.0-cp38-cp38-manylinux_2_17_x86_64.manylinux2014_x86_64.whl (35.3 MB)\n",
            "\u001b[2K     \u001b[90m━━━━━━━━━━━━━━━━━━━━━━━━━━━━━━━━━━━━━━━━\u001b[0m \u001b[32m35.3/35.3 MB\u001b[0m \u001b[31m23.8 MB/s\u001b[0m eta \u001b[36m0:00:00\u001b[0m00:01\u001b[0m00:01\u001b[0m\n",
            "\u001b[?25hCollecting azureml-dataprep<4.10.0a,>=4.9.0a\n",
            "  Using cached azureml_dataprep-4.9.2-py3-none-any.whl (43.5 MB)\n",
            "Collecting fusepy<4.0.0,>=3.0.1\n",
            "  Downloading fusepy-3.0.1.tar.gz (11 kB)\n",
            "  Preparing metadata (setup.py) ... \u001b[?25l-\b \b\\\b \b|\b \bdone\n",
            "\u001b[?25hCollecting shap<0.40.0\n",
            "  Downloading shap-0.39.0.tar.gz (356 kB)\n",
            "\u001b[2K     \u001b[90m━━━━━━━━━━━━━━━━━━━━━━━━━━━━━━━━━━━━━━\u001b[0m \u001b[32m356.2/356.2 kB\u001b[0m \u001b[31m17.3 MB/s\u001b[0m eta \u001b[36m0:00:00\u001b[0m\n",
            "\u001b[?25h  Preparing metadata (setup.py) ... \u001b[?25l-\b \b\\\b \b|\b \b/\b \bdone\n",
            "\u001b[?25hCollecting numba<=0.55.2\n",
            "  Downloading numba-0.55.2-cp38-cp38-manylinux2014_x86_64.manylinux_2_17_x86_64.whl (3.4 MB)\n",
            "\u001b[2K     \u001b[90m━━━━━━━━━━━━━━━━━━━━━━━━━━━━━━━━━━━━━━━━\u001b[0m \u001b[32m3.4/3.4 MB\u001b[0m \u001b[31m51.8 MB/s\u001b[0m eta \u001b[36m0:00:00\u001b[0m:00:01\u001b[0m\n",
            "\u001b[?25hCollecting interpret-community==0.28.*\n",
            "  Using cached interpret_community-0.28.0-py3-none-any.whl (130 kB)\n",
            "Collecting ml-wrappers~=0.4.2\n",
            "  Using cached ml_wrappers-0.4.2-py3-none-any.whl (39 kB)\n",
            "Collecting interpret-core[required]<=0.2.7,>=0.1.20\n",
            "  Downloading interpret_core-0.2.7-py3-none-any.whl (6.6 MB)\n",
            "\u001b[2K     \u001b[90m━━━━━━━━━━━━━━━━━━━━━━━━━━━━━━━━━━━━━━━━\u001b[0m \u001b[32m6.6/6.6 MB\u001b[0m \u001b[31m52.2 MB/s\u001b[0m eta \u001b[36m0:00:00\u001b[0m00:01\u001b[0m:00:01\u001b[0m\n",
            "\u001b[?25hRequirement already satisfied: azure-mgmt-core<2.0.0,>=1.2.0 in /anaconda/envs/jupyter_env/lib/python3.8/site-packages (from azureml-mlflow~=1.49.0->azureml-train-automl-runtime) (1.3.2)\n",
            "Collecting azure-identity\n",
            "  Downloading azure_identity-1.12.0-py3-none-any.whl (135 kB)\n",
            "\u001b[2K     \u001b[90m━━━━━━━━━━━━━━━━━━━━━━━━━━━━━━━━━━━━━━━\u001b[0m \u001b[32m135.5/135.5 kB\u001b[0m \u001b[31m9.6 MB/s\u001b[0m eta \u001b[36m0:00:00\u001b[0m\n",
            "\u001b[?25hCollecting azure-storage-blob<=12.13.0,>=12.5.0\n",
            "  Downloading azure_storage_blob-12.13.0-py3-none-any.whl (377 kB)\n",
            "\u001b[2K     \u001b[90m━━━━━━━━━━━━━━━━━━━━━━━━━━━━━━━━━━━━━━\u001b[0m \u001b[32m377.3/377.3 kB\u001b[0m \u001b[31m22.5 MB/s\u001b[0m eta \u001b[36m0:00:00\u001b[0m\n",
            "\u001b[?25hCollecting mlflow-skinny\n",
            "  Downloading mlflow_skinny-2.1.1-py3-none-any.whl (3.8 MB)\n",
            "\u001b[2K     \u001b[90m━━━━━━━━━━━━━━━━━━━━━━━━━━━━━━━━━━━━━━━━\u001b[0m \u001b[32m3.8/3.8 MB\u001b[0m \u001b[31m48.0 MB/s\u001b[0m eta \u001b[36m0:00:00\u001b[0m:00:01\u001b[0m\n",
            "\u001b[?25hRequirement already satisfied: applicationinsights in /anaconda/envs/jupyter_env/lib/python3.8/site-packages (from azureml-telemetry~=1.49.0->azureml-train-automl-runtime) (0.11.10)\n",
            "Collecting azureml-train-core~=1.49.0\n",
            "  Using cached azureml_train_core-1.49.0-py3-none-any.whl (8.6 MB)\n",
            "Requirement already satisfied: typing-extensions>=3.10.0 in /anaconda/envs/jupyter_env/lib/python3.8/site-packages (from bokeh<3.0.0->azureml-train-automl-runtime) (4.4.0)\n",
            "Requirement already satisfied: pillow>=7.1.0 in /anaconda/envs/jupyter_env/lib/python3.8/site-packages (from bokeh<3.0.0->azureml-train-automl-runtime) (9.4.0)\n",
            "Requirement already satisfied: tornado>=5.1 in /anaconda/envs/jupyter_env/lib/python3.8/site-packages (from bokeh<3.0.0->azureml-train-automl-runtime) (6.2)\n",
            "Requirement already satisfied: PyYAML>=3.10 in /anaconda/envs/jupyter_env/lib/python3.8/site-packages (from bokeh<3.0.0->azureml-train-automl-runtime) (6.0)\n",
            "Collecting jmespath<2.0.0\n",
            "  Downloading jmespath-0.10.0-py2.py3-none-any.whl (24 kB)\n",
            "Collecting s3transfer<0.6.0,>=0.5.0\n",
            "  Downloading s3transfer-0.5.2-py3-none-any.whl (79 kB)\n",
            "\u001b[2K     \u001b[90m━━━━━━━━━━━━━━━━━━━━━━━━━━━━━━━━━━━━━━━━\u001b[0m \u001b[32m79.5/79.5 kB\u001b[0m \u001b[31m4.8 MB/s\u001b[0m eta \u001b[36m0:00:00\u001b[0m\n",
            "\u001b[?25hCollecting toolz>=0.8.2\n",
            "  Downloading toolz-0.12.0-py3-none-any.whl (55 kB)\n",
            "\u001b[2K     \u001b[90m━━━━━━━━━━━━━━━━━━━━━━━━━━━━━━━━━━━━━━━━\u001b[0m \u001b[32m55.8/55.8 kB\u001b[0m \u001b[31m4.7 MB/s\u001b[0m eta \u001b[36m0:00:00\u001b[0m\n",
            "\u001b[?25hCollecting partd>=0.3.10\n",
            "  Downloading partd-1.3.0-py3-none-any.whl (18 kB)\n",
            "Requirement already satisfied: cloudpickle>=1.1.1 in /anaconda/envs/jupyter_env/lib/python3.8/site-packages (from dask[complete]<=2021.6.0->azureml-train-automl-runtime) (2.2.0)\n",
            "Collecting fsspec>=0.6.0\n",
            "  Downloading fsspec-2023.1.0-py3-none-any.whl (143 kB)\n",
            "\u001b[2K     \u001b[90m━━━━━━━━━━━━━━━━━━━━━━━━━━━━━━━━━━━━━━━\u001b[0m \u001b[32m143.0/143.0 kB\u001b[0m \u001b[31m3.4 MB/s\u001b[0m eta \u001b[36m0:00:00\u001b[0ma \u001b[36m0:00:01\u001b[0m\n",
            "\u001b[?25hCollecting distributed==2021.06.0\n",
            "  Downloading distributed-2021.6.0-py3-none-any.whl (715 kB)\n",
            "\u001b[2K     \u001b[90m━━━━━━━━━━━━━━━━━━━━━━━━━━━━━━━━━━━━━━\u001b[0m \u001b[32m715.3/715.3 kB\u001b[0m \u001b[31m32.4 MB/s\u001b[0m eta \u001b[36m0:00:00\u001b[0m\n",
            "\u001b[?25hCollecting zict>=0.1.3\n",
            "  Downloading zict-2.2.0-py2.py3-none-any.whl (23 kB)\n",
            "Collecting sortedcontainers!=2.0.0,!=2.0.1\n",
            "  Downloading sortedcontainers-2.4.0-py2.py3-none-any.whl (29 kB)\n",
            "Requirement already satisfied: msgpack>=0.6.0 in /anaconda/envs/jupyter_env/lib/python3.8/site-packages (from distributed==2021.06.0->dask[complete]<=2021.6.0->azureml-train-automl-runtime) (1.0.4)\n",
            "Requirement already satisfied: click>=6.6 in /anaconda/envs/jupyter_env/lib/python3.8/site-packages (from distributed==2021.06.0->dask[complete]<=2021.6.0->azureml-train-automl-runtime) (8.1.3)\n",
            "Collecting tblib>=1.6.0\n",
            "  Downloading tblib-1.7.0-py2.py3-none-any.whl (12 kB)\n",
            "Requirement already satisfied: MarkupSafe>=2.0 in /anaconda/envs/jupyter_env/lib/python3.8/site-packages (from jinja2<4->azureml-train-automl-runtime) (2.0.1)\n",
            "Collecting fire\n",
            "  Downloading fire-0.5.0.tar.gz (88 kB)\n",
            "\u001b[2K     \u001b[90m━━━━━━━━━━━━━━━━━━━━━━━━━━━━━━━━━━━━━━━━\u001b[0m \u001b[32m88.3/88.3 kB\u001b[0m \u001b[31m7.4 MB/s\u001b[0m eta \u001b[36m0:00:00\u001b[0m\n",
            "\u001b[?25h  Preparing metadata (setup.py) ... \u001b[?25l-\b \b\\\b \b|\b \b/\b \bdone\n",
            "\u001b[?25hRequirement already satisfied: wheel in /anaconda/envs/jupyter_env/lib/python3.8/site-packages (from lightgbm<=3.2.1,>=2.0.11->azureml-train-automl-runtime) (0.37.1)\n",
            "Collecting flatbuffers\n",
            "  Downloading flatbuffers-23.1.21-py2.py3-none-any.whl (26 kB)\n",
            "Collecting boto>=2.32\n",
            "  Downloading boto-2.49.0-py2.py3-none-any.whl (1.4 MB)\n",
            "\u001b[2K     \u001b[90m━━━━━━━━━━━━━━━━━━━━━━━━━━━━━━━━━━━━━━━━\u001b[0m \u001b[32m1.4/1.4 MB\u001b[0m \u001b[31m42.4 MB/s\u001b[0m eta \u001b[36m0:00:00\u001b[0m\n",
            "\u001b[?25hCollecting patsy>=0.5\n",
            "  Downloading patsy-0.5.3-py2.py3-none-any.whl (233 kB)\n",
            "\u001b[2K     \u001b[90m━━━━━━━━━━━━━━━━━━━━━━━━━━━━━━━━━━━━━━\u001b[0m \u001b[32m233.8/233.8 kB\u001b[0m \u001b[31m17.7 MB/s\u001b[0m eta \u001b[36m0:00:00\u001b[0m\n",
            "\u001b[?25hCollecting property-cached>=1.6.4\n",
            "  Downloading property_cached-1.6.4-py2.py3-none-any.whl (7.8 kB)\n",
            "Requirement already satisfied: jsonschema in /anaconda/envs/jupyter_env/lib/python3.8/site-packages (from azureml-dataprep<4.10.0a,>=4.9.0a->azureml-dataset-runtime[fuse,pandas]~=1.49.0->azureml-train-automl-runtime) (4.17.3)\n",
            "Collecting azureml-dataprep-rslex~=2.16.0dev0\n",
            "  Using cached azureml_dataprep_rslex-2.16.3-cp38-cp38-manylinux_2_17_x86_64.manylinux2014_x86_64.whl (16.5 MB)\n",
            "Collecting azureml-dataprep-native<39.0.0,>=38.0.0\n",
            "  Downloading azureml_dataprep_native-38.0.0-cp38-cp38-manylinux1_x86_64.whl (1.4 MB)\n",
            "\u001b[2K     \u001b[90m━━━━━━━━━━━━━━━━━━━━━━━━━━━━━━━━━━━━━━━━\u001b[0m \u001b[32m1.4/1.4 MB\u001b[0m \u001b[31m34.5 MB/s\u001b[0m eta \u001b[36m0:00:00\u001b[0m:00:01\u001b[0m\n",
            "\u001b[?25hCollecting azureml-train-restclients-hyperdrive~=1.49.0\n",
            "  Using cached azureml_train_restclients_hyperdrive-1.49.0-py3-none-any.whl (18 kB)\n",
            "Requirement already satisfied: cffi>=1.12 in /anaconda/envs/jupyter_env/lib/python3.8/site-packages (from cryptography>=2.1.4->azure-storage-queue~=12.1->azureml-train-automl-runtime) (1.15.1)\n",
            "Requirement already satisfied: websocket-client>=0.32.0 in /anaconda/envs/jupyter_env/lib/python3.8/site-packages (from docker<7.0.0->azureml-core~=1.49.0->azureml-train-automl-runtime) (1.4.2)\n",
            "Requirement already satisfied: distro>=1.2.0 in /anaconda/envs/jupyter_env/lib/python3.8/site-packages (from dotnetcore2<4.0.0,>=3.0.0->azureml-automl-runtime~=1.49.0->azureml-train-automl-runtime) (1.8.0)\n",
            "Requirement already satisfied: tabulate in /anaconda/envs/jupyter_env/lib/python3.8/site-packages (from knack~=0.10.0->azureml-core~=1.49.0->azureml-train-automl-runtime) (0.9.0)\n",
            "Requirement already satisfied: pygments in /anaconda/envs/jupyter_env/lib/python3.8/site-packages (from knack~=0.10.0->azureml-core~=1.49.0->azureml-train-automl-runtime) (2.14.0)\n",
            "Requirement already satisfied: portalocker<3,>=1.0 in /anaconda/envs/jupyter_env/lib/python3.8/site-packages (from msal-extensions<=1.0.0,>=0.3.0->azureml-core~=1.49.0->azureml-train-automl-runtime) (2.7.0)\n",
            "Requirement already satisfied: requests-oauthlib>=0.5.0 in /anaconda/envs/jupyter_env/lib/python3.8/site-packages (from msrest>=0.7.1->azure-storage-queue~=12.1->azureml-train-automl-runtime) (1.3.1)\n",
            "Requirement already satisfied: isodate>=0.6.0 in /anaconda/envs/jupyter_env/lib/python3.8/site-packages (from msrest>=0.7.1->azure-storage-queue~=12.1->azureml-train-automl-runtime) (0.6.1)\n",
            "Requirement already satisfied: certifi>=2017.4.17 in /anaconda/envs/jupyter_env/lib/python3.8/site-packages (from msrest>=0.7.1->azure-storage-queue~=12.1->azureml-train-automl-runtime) (2022.12.7)\n",
            "Requirement already satisfied: pyasn1>=0.1.1 in /anaconda/envs/jupyter_env/lib/python3.8/site-packages (from ndg-httpsclient<=0.5.1->azureml-core~=1.49.0->azureml-train-automl-runtime) (0.4.8)\n",
            "Collecting llvmlite<0.39,>=0.38.0rc1\n",
            "  Downloading llvmlite-0.38.1-cp38-cp38-manylinux_2_17_x86_64.manylinux2014_x86_64.whl (34.5 MB)\n",
            "\u001b[2K     \u001b[90m━━━━━━━━━━━━━━━━━━━━━━━━━━━━━━━━━━━━━━━━\u001b[0m \u001b[32m34.5/34.5 MB\u001b[0m \u001b[31m25.0 MB/s\u001b[0m eta \u001b[36m0:00:00\u001b[0m00:01\u001b[0m00:01\u001b[0m\n",
            "\u001b[?25hRequirement already satisfied: pyparsing!=3.0.5,>=2.0.2 in /anaconda/envs/jupyter_env/lib/python3.8/site-packages (from packaging<22.0,>=20.0->azureml-core~=1.49.0->azureml-train-automl-runtime) (3.0.9)\n",
            "Requirement already satisfied: bcrypt>=3.1.3 in /anaconda/envs/jupyter_env/lib/python3.8/site-packages (from paramiko<3.0.0,>=2.0.8->azureml-core~=1.49.0->azureml-train-automl-runtime) (4.0.1)\n",
            "Requirement already satisfied: pynacl>=1.0.1 in /anaconda/envs/jupyter_env/lib/python3.8/site-packages (from paramiko<3.0.0,>=2.0.8->azureml-core~=1.49.0->azureml-train-automl-runtime) (1.5.0)\n",
            "Collecting locket\n",
            "  Downloading locket-1.0.0-py2.py3-none-any.whl (4.4 kB)\n",
            "Requirement already satisfied: charset-normalizer<4,>=2 in /anaconda/envs/jupyter_env/lib/python3.8/site-packages (from requests[socks]<3.0.0,>=2.19.1->azureml-core~=1.49.0->azureml-train-automl-runtime) (2.1.1)\n",
            "Requirement already satisfied: idna<4,>=2.5 in /anaconda/envs/jupyter_env/lib/python3.8/site-packages (from requests[socks]<3.0.0,>=2.19.1->azureml-core~=1.49.0->azureml-train-automl-runtime) (3.4)\n",
            "Requirement already satisfied: PySocks!=1.5.7,>=1.5.6 in /anaconda/envs/jupyter_env/lib/python3.8/site-packages (from requests[socks]<3.0.0,>=2.19.1->azureml-core~=1.49.0->azureml-train-automl-runtime) (1.7.1)\n",
            "Requirement already satisfied: jeepney>=0.6 in /anaconda/envs/jupyter_env/lib/python3.8/site-packages (from SecretStorage<4.0.0->azureml-core~=1.49.0->azureml-train-automl-runtime) (0.8.0)\n",
            "Collecting tqdm>4.25.0\n",
            "  Downloading tqdm-4.64.1-py2.py3-none-any.whl (78 kB)\n",
            "\u001b[2K     \u001b[90m━━━━━━━━━━━━━━━━━━━━━━━━━━━━━━━━━━━━━━━━\u001b[0m \u001b[32m78.5/78.5 kB\u001b[0m \u001b[31m2.1 MB/s\u001b[0m eta \u001b[36m0:00:00\u001b[0m\n",
            "\u001b[?25hCollecting slicer==0.0.7\n",
            "  Downloading slicer-0.0.7-py3-none-any.whl (14 kB)\n",
            "Requirement already satisfied: backports.weakref in /anaconda/envs/jupyter_env/lib/python3.8/site-packages (from backports.tempfile->azureml-core~=1.49.0->azureml-train-automl-runtime) (1.0.post1)\n",
            "Collecting termcolor\n",
            "  Downloading termcolor-2.2.0-py3-none-any.whl (6.6 kB)\n",
            "Requirement already satisfied: gitpython<4,>=2.1.0 in /anaconda/envs/jupyter_env/lib/python3.8/site-packages (from mlflow-skinny->azureml-mlflow~=1.49.0->azureml-train-automl-runtime) (3.1.30)\n",
            "Collecting importlib-metadata!=4.7.0,<6,>=3.7.0\n",
            "  Downloading importlib_metadata-5.2.0-py3-none-any.whl (21 kB)\n",
            "Collecting databricks-cli<1,>=0.8.7\n",
            "  Downloading databricks-cli-0.17.4.tar.gz (82 kB)\n",
            "\u001b[2K     \u001b[90m━━━━━━━━━━━━━━━━━━━━━━━━━━━━━━━━━━━━━━━━\u001b[0m \u001b[32m82.3/82.3 kB\u001b[0m \u001b[31m7.0 MB/s\u001b[0m eta \u001b[36m0:00:00\u001b[0m\n",
            "\u001b[?25h  Preparing metadata (setup.py) ... \u001b[?25l-\b \b\\\b \b|\b \b/\b \b-\b \bdone\n",
            "\u001b[?25hCollecting sqlparse<1,>=0.4.0\n",
            "  Downloading sqlparse-0.4.3-py3-none-any.whl (42 kB)\n",
            "\u001b[2K     \u001b[90m━━━━━━━━━━━━━━━━━━━━━━━━━━━━━━━━━━━━━━━━\u001b[0m \u001b[32m42.8/42.8 kB\u001b[0m \u001b[31m3.2 MB/s\u001b[0m eta \u001b[36m0:00:00\u001b[0m\n",
            "\u001b[?25hRequirement already satisfied: entrypoints<1 in /anaconda/envs/jupyter_env/lib/python3.8/site-packages (from mlflow-skinny->azureml-mlflow~=1.49.0->azureml-train-automl-runtime) (0.4)\n",
            "Requirement already satisfied: pycparser in /anaconda/envs/jupyter_env/lib/python3.8/site-packages (from cffi>=1.12->cryptography>=2.1.4->azure-storage-queue~=12.1->azureml-train-automl-runtime) (2.21)\n",
            "Requirement already satisfied: oauthlib>=3.1.0 in /anaconda/envs/jupyter_env/lib/python3.8/site-packages (from databricks-cli<1,>=0.8.7->mlflow-skinny->azureml-mlflow~=1.49.0->azureml-train-automl-runtime) (3.2.2)\n",
            "Requirement already satisfied: gitdb<5,>=4.0.1 in /anaconda/envs/jupyter_env/lib/python3.8/site-packages (from gitpython<4,>=2.1.0->mlflow-skinny->azureml-mlflow~=1.49.0->azureml-train-automl-runtime) (4.0.10)\n",
            "Requirement already satisfied: zipp>=0.5 in /anaconda/envs/jupyter_env/lib/python3.8/site-packages (from importlib-metadata!=4.7.0,<6,>=3.7.0->mlflow-skinny->azureml-mlflow~=1.49.0->azureml-train-automl-runtime) (3.11.0)\n",
            "Collecting heapdict\n",
            "  Downloading HeapDict-1.0.1-py3-none-any.whl (3.9 kB)\n",
            "Requirement already satisfied: importlib-resources>=1.4.0 in /anaconda/envs/jupyter_env/lib/python3.8/site-packages (from jsonschema->azureml-dataprep<4.10.0a,>=4.9.0a->azureml-dataset-runtime[fuse,pandas]~=1.49.0->azureml-train-automl-runtime) (5.10.2)\n",
            "Requirement already satisfied: pyrsistent!=0.17.0,!=0.17.1,!=0.17.2,>=0.14.0 in /anaconda/envs/jupyter_env/lib/python3.8/site-packages (from jsonschema->azureml-dataprep<4.10.0a,>=4.9.0a->azureml-dataset-runtime[fuse,pandas]~=1.49.0->azureml-train-automl-runtime) (0.19.3)\n",
            "Requirement already satisfied: attrs>=17.4.0 in /anaconda/envs/jupyter_env/lib/python3.8/site-packages (from jsonschema->azureml-dataprep<4.10.0a,>=4.9.0a->azureml-dataset-runtime[fuse,pandas]~=1.49.0->azureml-train-automl-runtime) (22.2.0)\n",
            "Requirement already satisfied: pkgutil-resolve-name>=1.3.10 in /anaconda/envs/jupyter_env/lib/python3.8/site-packages (from jsonschema->azureml-dataprep<4.10.0a,>=4.9.0a->azureml-dataset-runtime[fuse,pandas]~=1.49.0->azureml-train-automl-runtime) (1.3.10)\n",
            "Requirement already satisfied: smmap<6,>=3.0.1 in /anaconda/envs/jupyter_env/lib/python3.8/site-packages (from gitdb<5,>=4.0.1->gitpython<4,>=2.1.0->mlflow-skinny->azureml-mlflow~=1.49.0->azureml-train-automl-runtime) (5.0.0)\n",
            "Building wheels for collected packages: smart-open, fusepy, shap, fire, databricks-cli\n",
            "  Building wheel for smart-open (setup.py) ... \u001b[?25l-\b \b\\\b \b|\b \b/\b \b-\b \b\\\b \b|\b \b/\b \bdone\n",
            "\u001b[?25h  Created wheel for smart-open: filename=smart_open-1.9.0-py3-none-any.whl size=73094 sha256=16dc705c9eef9261afee00103ba3f7ebd29e5b797c798e790569db9024db9025\n",
            "  Stored in directory: /home/azureuser/.cache/pip/wheels/f6/95/73/b9bb6bced7068264dc3fbb0bd1a2e942a65faa6f5a54b6fbde\n",
            "  Building wheel for fusepy (setup.py) ... \u001b[?25l-\b \b\\\b \b|\b \b/\b \b-\b \b\\\b \b|\b \bdone\n",
            "\u001b[?25h  Created wheel for fusepy: filename=fusepy-3.0.1-py3-none-any.whl size=10503 sha256=f77eef885b0777cd5a98a1f3e20de4e81169171aede49262dad0096b00e8be4a\n",
            "  Stored in directory: /home/azureuser/.cache/pip/wheels/7f/41/10/f70b83a1164fdb95e7bc37bace13114a024227e56c2fee02bb\n",
            "  Building wheel for shap (setup.py) ... \u001b[?25l-\b \b\\\b \b|\b \b/\b \b-\b \b\\\b \b|\b \b/\b \b-\b \b\\\b \b|\b \bdone\n",
            "\u001b[?25h  Created wheel for shap: filename=shap-0.39.0-cp38-cp38-linux_x86_64.whl size=549895 sha256=aa105605268f4f20a801a9dd0293c73139a4662d861fc108f9c2dfd2ce541812\n",
            "  Stored in directory: /home/azureuser/.cache/pip/wheels/3d/c9/06/734ed80d6d61fad331974bf62017b4ea6b33488082b9f5e67e\n",
            "  Building wheel for fire (setup.py) ... \u001b[?25l-\b \b\\\b \b|\b \b/\b \b-\b \b\\\b \b|\b \b/\b \bdone\n",
            "\u001b[?25h  Created wheel for fire: filename=fire-0.5.0-py2.py3-none-any.whl size=116951 sha256=7be760a420cf9de15b653539136adcdf86b809da41445d2c8658ce9f9c36d530\n",
            "  Stored in directory: /home/azureuser/.cache/pip/wheels/5b/eb/43/7295e71293b218ddfd627f935229bf54af9018add7fbb5aac6\n",
            "  Building wheel for databricks-cli (setup.py) ... \u001b[?25l-\b \b\\\b \b|\b \b/\b \b-\b \b\\\b \b|\b \b/\b \b-\b \bdone\n",
            "\u001b[?25h  Created wheel for databricks-cli: filename=databricks_cli-0.17.4-py3-none-any.whl size=142889 sha256=d0da5fcb53c0fc39acbb814edda85401997f72214a6c5e54a9227ca9c92247c7\n",
            "  Stored in directory: /home/azureuser/.cache/pip/wheels/48/7c/6e/4bf2c1748c7ecf994ca951591de81674ed6bf633e1e337d873\n",
            "Successfully built smart-open fusepy shap fire databricks-cli\n",
            "Installing collected packages: sortedcontainers, joblib, interpret-core, heapdict, fusepy, flatbuffers, dataclasses, boto, azureml-dataprep-rslex, azureml-dataprep-native, zict, tqdm, toolz, termcolor, tblib, sqlparse, slicer, setuptools, protobuf, property-cached, numpy, locket, llvmlite, jmespath, importlib-metadata, fsspec, dill, Cython, pyarrow, patsy, partd, pandas, onnxruntime, onnx, numba, fire, databricks-cli, botocore, bokeh, statsmodels, scikit-learn, s3transfer, onnxconverter-common, mlflow-skinny, dask, sklearn-pandas, skl2onnx, shap, pmdarima, ml-wrappers, lightgbm, keras2onnx, distributed, boto3, azure-storage-queue, azure-storage-blob, arch, smart-open, onnxmltools, interpret-community, azureml-train-restclients-hyperdrive, gensim, azureml-core, azure-identity, azureml-telemetry, azureml-mlflow, azureml-interpret, azureml-dataprep, azureml-train-core, azureml-dataset-runtime, azureml-automl-core, azureml-training-tabular, azureml-train-automl-client, azureml-automl-runtime, azureml-train-automl-runtime\n",
            "  Attempting uninstall: setuptools\n",
            "    Found existing installation: setuptools 61.2.0\n",
            "    Uninstalling setuptools-61.2.0:\n",
            "      Successfully uninstalled setuptools-61.2.0\n",
            "  Attempting uninstall: protobuf\n",
            "    Found existing installation: protobuf 3.20.3\n",
            "    Uninstalling protobuf-3.20.3:\n",
            "      Successfully uninstalled protobuf-3.20.3\n",
            "  Attempting uninstall: numpy\n",
            "    Found existing installation: numpy 1.23.5\n",
            "    Uninstalling numpy-1.23.5:\n",
            "      Successfully uninstalled numpy-1.23.5\n",
            "  Attempting uninstall: jmespath\n",
            "    Found existing installation: jmespath 1.0.1\n",
            "    Uninstalling jmespath-1.0.1:\n",
            "      Successfully uninstalled jmespath-1.0.1\n",
            "  Attempting uninstall: importlib-metadata\n",
            "    Found existing installation: importlib-metadata 6.0.0\n",
            "    Uninstalling importlib-metadata-6.0.0:\n",
            "      Successfully uninstalled importlib-metadata-6.0.0\n",
            "  Attempting uninstall: pandas\n",
            "    Found existing installation: pandas 1.5.3\n",
            "    Uninstalling pandas-1.5.3:\n",
            "      Successfully uninstalled pandas-1.5.3\n",
            "  Attempting uninstall: bokeh\n",
            "    Found existing installation: bokeh 3.0.3\n",
            "    Uninstalling bokeh-3.0.3:\n",
            "      Successfully uninstalled bokeh-3.0.3\n",
            "  Attempting uninstall: azure-storage-blob\n",
            "    Found existing installation: azure-storage-blob 12.14.1\n",
            "    Uninstalling azure-storage-blob-12.14.1:\n",
            "      Successfully uninstalled azure-storage-blob-12.14.1\n",
            "  Attempting uninstall: smart-open\n",
            "    Found existing installation: smart-open 6.3.0\n",
            "    Uninstalling smart-open-6.3.0:\n",
            "      Successfully uninstalled smart-open-6.3.0\n",
            "  Attempting uninstall: azureml-core\n",
            "    Found existing installation: azureml-core 1.48.0\n",
            "    Uninstalling azureml-core-1.48.0:\n",
            "      Successfully uninstalled azureml-core-1.48.0\n",
            "  Attempting uninstall: azureml-telemetry\n",
            "    Found existing installation: azureml-telemetry 1.48.0\n",
            "    Uninstalling azureml-telemetry-1.48.0:\n",
            "      Successfully uninstalled azureml-telemetry-1.48.0\n",
            "\u001b[31mERROR: pip's dependency resolver does not currently take into account all the packages that are installed. This behaviour is the source of the following dependency conflicts.\n",
            "googleapis-common-protos 1.58.0 requires protobuf!=3.20.0,!=3.20.1,!=4.21.1,!=4.21.2,!=4.21.3,!=4.21.4,!=4.21.5,<5.0.0dev,>=3.19.5, but you have protobuf 3.20.1 which is incompatible.\n",
            "google-api-core 2.11.0 requires protobuf!=3.20.0,!=3.20.1,!=4.21.0,!=4.21.1,!=4.21.2,!=4.21.3,!=4.21.4,!=4.21.5,<5.0.0dev,>=3.19.5, but you have protobuf 3.20.1 which is incompatible.\n",
            "azureml-widgets 1.48.0 requires azureml-core~=1.48.0, but you have azureml-core 1.49.0 which is incompatible.\n",
            "azureml-widgets 1.48.0 requires azureml-telemetry~=1.48.0, but you have azureml-telemetry 1.49.0 which is incompatible.\n",
            "azureml-widgets 1.48.0 requires jinja2<=2.11.2, but you have jinja2 3.0.3 which is incompatible.\u001b[0m\u001b[31m\n",
            "\u001b[0mSuccessfully installed Cython-0.29.17 arch-5.3.1 azure-identity-1.12.0 azure-storage-blob-12.13.0 azure-storage-queue-12.5.0 azureml-automl-core-1.49.0 azureml-automl-runtime-1.49.0 azureml-core-1.49.0 azureml-dataprep-4.9.2 azureml-dataprep-native-38.0.0 azureml-dataprep-rslex-2.16.3 azureml-dataset-runtime-1.49.0 azureml-interpret-1.49.0 azureml-mlflow-1.49.0 azureml-telemetry-1.49.0 azureml-train-automl-client-1.49.0 azureml-train-automl-runtime-1.49.0 azureml-train-core-1.49.0 azureml-train-restclients-hyperdrive-1.49.0 azureml-training-tabular-1.49.0 bokeh-2.4.3 boto-2.49.0 boto3-1.20.19 botocore-1.23.19 dask-2021.6.0 databricks-cli-0.17.4 dataclasses-0.6 dill-0.3.6 distributed-2021.6.0 fire-0.5.0 flatbuffers-23.1.21 fsspec-2023.1.0 fusepy-3.0.1 gensim-3.8.3 heapdict-1.0.1 importlib-metadata-5.2.0 interpret-community-0.28.0 interpret-core-0.2.7 jmespath-0.10.0 joblib-0.14.1 keras2onnx-1.6.0 lightgbm-3.2.1 llvmlite-0.38.1 locket-1.0.0 ml-wrappers-0.4.2 mlflow-skinny-2.1.1 numba-0.55.2 numpy-1.22.3 onnx-1.12.0 onnxconverter-common-1.6.0 onnxmltools-1.4.1 onnxruntime-1.11.1 pandas-1.1.5 partd-1.3.0 patsy-0.5.3 pmdarima-1.7.1 property-cached-1.6.4 protobuf-3.20.1 pyarrow-9.0.0 s3transfer-0.5.2 scikit-learn-0.22.2.post1 setuptools-49.6.0 shap-0.39.0 skl2onnx-1.4.9 sklearn-pandas-1.7.0 slicer-0.0.7 smart-open-1.9.0 sortedcontainers-2.4.0 sqlparse-0.4.3 statsmodels-0.11.1 tblib-1.7.0 termcolor-2.2.0 toolz-0.12.0 tqdm-4.64.1 zict-2.2.0\n",
            "Note: you may need to restart the kernel to use updated packages.\n"
          ]
        }
      ],
      "source": [
        "pip install azureml-train-automl-runtime"
      ]
    },
    {
      "cell_type": "code",
      "execution_count": 12,
      "metadata": {
        "gather": {
          "logged": 1677096430759
        },
        "jupyter": {
          "outputs_hidden": false,
          "source_hidden": false
        },
        "nteract": {
          "transient": {
            "deleting": false
          }
        }
      },
      "outputs": [
        {
          "name": "stderr",
          "output_type": "stream",
          "text": [
            "'SKLearn' estimator is deprecated. Please use 'ScriptRunConfig' from 'azureml.core.script_run_config' with your own defined environment or the AzureML-Tutorial curated environment.\n"
          ]
        }
      ],
      "source": [
        "from azureml.widgets import RunDetails\n",
        "from azureml.train.sklearn import SKLearn\n",
        "from azureml.train.hyperdrive.run import PrimaryMetricGoal\n",
        "from azureml.train.hyperdrive.policy import BanditPolicy\n",
        "from azureml.train.hyperdrive.sampling import RandomParameterSampling\n",
        "from azureml.train.hyperdrive.runconfig import HyperDriveConfig\n",
        "from azureml.train.hyperdrive.parameter_expressions import choice, uniform\n",
        "from azureml.core import Environment, ScriptRunConfig\n",
        "import os\n",
        "\n",
        "# Specify parameter sampler\n",
        "ps = RandomParameterSampling(\n",
        "    {\n",
        "        '--C': choice(0.1, 0.5, 1, 10),\n",
        "        '--max_iter': choice(10, 50, 100, 200)\n",
        "    }\n",
        ")\n",
        "\n",
        "# Specify a Policy\n",
        "policy = BanditPolicy(slack_factor = 0.1, delay_evaluation = 5, evaluation_interval = 1)\n",
        "\n",
        "if \"training\" not in os.listdir():\n",
        "    os.mkdir(\"./training\")\n",
        "\n",
        "# Setup environment for your training run\n",
        "sklearn_env = Environment.from_conda_specification(name='sklearn-env', file_path='conda_dependencies.yml')\n",
        "\n",
        "# Create a ScriptRunConfig Object to specify the configuration details of your training job\n",
        "src = ScriptRunConfig(source_directory='.',\n",
        "                      command=['python', 'train.py'],\n",
        "                      compute_target=aml_compute,\n",
        "                      environment=sklearn_env)\n",
        "\n",
        "# Create a HyperDriveConfig using the src object, hyperparameter sampler, and policy.\n",
        "hyperdrive_config = HyperDriveConfig(estimator=src,\n",
        "                                     hyperparameter_sampling=ps,\n",
        "                                     policy=policy,\n",
        "                                     primary_metric_name='Accuracy',\n",
        "                                     primary_metric_goal=PrimaryMetricGoal.MAXIMIZE,\n",
        "                                     max_total_runs=20,\n",
        "                                     max_concurrent_runs=4)\n",
        "\n",
        "\n",
        "# Create a SKLearn estimator for use with train.py\n",
        "est = SKLearn(source_directory = \"./\",\n",
        "            compute_target=aml_compute,\n",
        "            vm_size='STANDARD_D2_V2',\n",
        "            entry_script=\"train.py\")\n",
        "\n",
        "# Create a HyperDriveConfig using the estimator, hyperparameter sampler, and policy.\n",
        "hyperdrive_config = HyperDriveConfig(hyperparameter_sampling=ps, \n",
        "                                     primary_metric_name='Accuracy',\n",
        "                                     primary_metric_goal=PrimaryMetricGoal.MAXIMIZE,\n",
        "                                     policy=policy,\n",
        "                                     estimator=est,\n",
        "                                     max_total_runs=16,\n",
        "                                     max_concurrent_runs=4)                                     "
      ]
    },
    {
      "cell_type": "code",
      "execution_count": 13,
      "metadata": {
        "gather": {
          "logged": 1677097153232
        }
      },
      "outputs": [
        {
          "name": "stderr",
          "output_type": "stream",
          "text": [
            "WARNING:root:If 'script' has been provided here and a script file name has been specified in 'run_config', 'script' provided in ScriptRunConfig initialization will take precedence.\n"
          ]
        },
        {
          "name": "stdout",
          "output_type": "stream",
          "text": [
            "RunId: HD_aad58645-3118-423b-80ac-917352d2a048\n",
            "Web View: https://ml.azure.com/runs/HD_aad58645-3118-423b-80ac-917352d2a048?wsid=/subscriptions/61c5c3f0-6dc7-4ed9-a7f3-c704b20e3b30/resourcegroups/aml-quickstarts-226641/workspaces/quick-starts-ws-226641&tid=660b3398-b80e-49d2-bc5b-ac1dc93b5254\n",
            "\n",
            "Streaming azureml-logs/hyperdrive.txt\n",
            "=====================================\n",
            "\n",
            "[2023-02-22T20:07:32.236883][GENERATOR][INFO]Trying to sample '4' jobs from the hyperparameter space\n",
            "[2023-02-22T20:07:33.1598254Z][SCHEDULER][INFO]Scheduling job, id='HD_aad58645-3118-423b-80ac-917352d2a048_0' \n",
            "[2023-02-22T20:07:33.3387914Z][SCHEDULER][INFO]Scheduling job, id='HD_aad58645-3118-423b-80ac-917352d2a048_1' \n",
            "[2023-02-22T20:07:33.533098][GENERATOR][INFO]Successfully sampled '4' jobs, they will soon be submitted to the execution target.\n",
            "[2023-02-22T20:07:33.5983130Z][SCHEDULER][INFO]Scheduling job, id='HD_aad58645-3118-423b-80ac-917352d2a048_3' \n",
            "[2023-02-22T20:07:33.5068685Z][SCHEDULER][INFO]Scheduling job, id='HD_aad58645-3118-423b-80ac-917352d2a048_2' \n",
            "[2023-02-22T20:07:33.9184020Z][SCHEDULER][INFO]Successfully scheduled a job. Id='HD_aad58645-3118-423b-80ac-917352d2a048_3' \n",
            "[2023-02-22T20:07:33.9841959Z][SCHEDULER][INFO]Successfully scheduled a job. Id='HD_aad58645-3118-423b-80ac-917352d2a048_0' \n",
            "[2023-02-22T20:07:33.9870843Z][SCHEDULER][INFO]Successfully scheduled a job. Id='HD_aad58645-3118-423b-80ac-917352d2a048_2' \n",
            "[2023-02-22T20:07:34.0073606Z][SCHEDULER][INFO]Successfully scheduled a job. Id='HD_aad58645-3118-423b-80ac-917352d2a048_1' \n",
            "[2023-02-22T20:12:34.560797][GENERATOR][INFO]Trying to sample '1' jobs from the hyperparameter space\n",
            "[2023-02-22T20:12:35.3838060Z][SCHEDULER][INFO]Scheduling job, id='HD_aad58645-3118-423b-80ac-917352d2a048_4' \n",
            "[2023-02-22T20:12:35.225621][GENERATOR][INFO]Successfully sampled '1' jobs, they will soon be submitted to the execution target.\n",
            "[2023-02-22T20:12:35.7202976Z][SCHEDULER][INFO]Successfully scheduled a job. Id='HD_aad58645-3118-423b-80ac-917352d2a048_4' \n",
            "[2023-02-22T20:13:35.626350][GENERATOR][INFO]Trying to sample '1' jobs from the hyperparameter space\n",
            "[2023-02-22T20:13:36.336079][GENERATOR][INFO]Successfully sampled '1' jobs, they will soon be submitted to the execution target.\n",
            "[2023-02-22T20:13:36.4728733Z][SCHEDULER][INFO]Scheduling job, id='HD_aad58645-3118-423b-80ac-917352d2a048_5' \n",
            "[2023-02-22T20:13:37.0006054Z][SCHEDULER][INFO]Successfully scheduled a job. Id='HD_aad58645-3118-423b-80ac-917352d2a048_5' \n",
            "[2023-02-22T20:14:23.265262][GENERATOR][INFO]Trying to sample '2' jobs from the hyperparameter space\n",
            "[2023-02-22T20:14:24.0256704Z][SCHEDULER][INFO]Scheduling job, id='HD_aad58645-3118-423b-80ac-917352d2a048_6' \n",
            "[2023-02-22T20:14:24.074660][GENERATOR][INFO]Successfully sampled '2' jobs, they will soon be submitted to the execution target.\n",
            "[2023-02-22T20:14:24.1486508Z][SCHEDULER][INFO]Scheduling job, id='HD_aad58645-3118-423b-80ac-917352d2a048_7' \n",
            "[2023-02-22T20:14:24.5979070Z][SCHEDULER][INFO]Successfully scheduled a job. Id='HD_aad58645-3118-423b-80ac-917352d2a048_6' \n",
            "[2023-02-22T20:14:24.6092290Z][SCHEDULER][INFO]Successfully scheduled a job. Id='HD_aad58645-3118-423b-80ac-917352d2a048_7' \n",
            "[2023-02-22T20:14:53.787241][GENERATOR][INFO]Trying to sample '1' jobs from the hyperparameter space\n",
            "[2023-02-22T20:14:54.400565][GENERATOR][INFO]Successfully sampled '1' jobs, they will soon be submitted to the execution target.\n",
            "[2023-02-22T20:14:54.4648972Z][SCHEDULER][INFO]Scheduling job, id='HD_aad58645-3118-423b-80ac-917352d2a048_8' \n",
            "[2023-02-22T20:14:54.7190145Z][SCHEDULER][INFO]Successfully scheduled a job. Id='HD_aad58645-3118-423b-80ac-917352d2a048_8' \n",
            "[2023-02-22T20:15:24.674224][GENERATOR][INFO]Trying to sample '2' jobs from the hyperparameter space\n",
            "[2023-02-22T20:15:25.3268344Z][SCHEDULER][INFO]Scheduling job, id='HD_aad58645-3118-423b-80ac-917352d2a048_9' \n",
            "[2023-02-22T20:15:25.373370][GENERATOR][INFO]Successfully sampled '2' jobs, they will soon be submitted to the execution target.\n",
            "[2023-02-22T20:15:25.4616916Z][SCHEDULER][INFO]Scheduling job, id='HD_aad58645-3118-423b-80ac-917352d2a048_10' \n",
            "[2023-02-22T20:15:25.7627341Z][SCHEDULER][INFO]Successfully scheduled a job. Id='HD_aad58645-3118-423b-80ac-917352d2a048_10' \n",
            "[2023-02-22T20:15:26.0070736Z][SCHEDULER][INFO]Successfully scheduled a job. Id='HD_aad58645-3118-423b-80ac-917352d2a048_9' \n",
            "[2023-02-22T20:15:55.787553][GENERATOR][INFO]Trying to sample '2' jobs from the hyperparameter space\n",
            "[2023-02-22T20:15:56.5599864Z][SCHEDULER][INFO]Scheduling job, id='HD_aad58645-3118-423b-80ac-917352d2a048_11' \n",
            "[2023-02-22T20:15:56.585112][GENERATOR][INFO]Successfully sampled '2' jobs, they will soon be submitted to the execution target.\n",
            "[2023-02-22T20:15:56.6649817Z][SCHEDULER][INFO]Scheduling job, id='HD_aad58645-3118-423b-80ac-917352d2a048_12' \n",
            "[2023-02-22T20:15:56.8313030Z][SCHEDULER][INFO]Successfully scheduled a job. Id='HD_aad58645-3118-423b-80ac-917352d2a048_11' \n",
            "[2023-02-22T20:15:56.9053969Z][SCHEDULER][INFO]Successfully scheduled a job. Id='HD_aad58645-3118-423b-80ac-917352d2a048_12' \n",
            "[2023-02-22T20:16:26.568268][GENERATOR][INFO]Trying to sample '2' jobs from the hyperparameter space\n",
            "[2023-02-22T20:16:27.4166012Z][SCHEDULER][INFO]Scheduling job, id='HD_aad58645-3118-423b-80ac-917352d2a048_13' \n",
            "[2023-02-22T20:16:27.466065][GENERATOR][INFO]Successfully sampled '2' jobs, they will soon be submitted to the execution target.\n",
            "[2023-02-22T20:16:27.5308958Z][SCHEDULER][INFO]Scheduling job, id='HD_aad58645-3118-423b-80ac-917352d2a048_14' \n",
            "[2023-02-22T20:16:27.6678224Z][SCHEDULER][INFO]Successfully scheduled a job. Id='HD_aad58645-3118-423b-80ac-917352d2a048_13' \n",
            "[2023-02-22T20:16:27.7820459Z][SCHEDULER][INFO]Successfully scheduled a job. Id='HD_aad58645-3118-423b-80ac-917352d2a048_14' \n",
            "[2023-02-22T20:16:57.552736][GENERATOR][INFO]Trying to sample '1' jobs from the hyperparameter space\n",
            "[2023-02-22T20:16:58.3248182Z][SCHEDULER][INFO]Scheduling job, id='HD_aad58645-3118-423b-80ac-917352d2a048_15' \n",
            "[2023-02-22T20:16:58.261004][GENERATOR][INFO]Successfully sampled '1' jobs, they will soon be submitted to the execution target.\n",
            "[2023-02-22T20:16:58.7265076Z][SCHEDULER][INFO]Successfully scheduled a job. Id='HD_aad58645-3118-423b-80ac-917352d2a048_15' \n",
            "[2023-02-22T20:18:45.128407][CONTROLLER][INFO]Experiment was 'ExperimentStatus.RUNNING', is 'ExperimentStatus.FINISHED'.\n",
            "\n",
            "Execution Summary\n",
            "=================\n",
            "RunId: HD_aad58645-3118-423b-80ac-917352d2a048\n",
            "Web View: https://ml.azure.com/runs/HD_aad58645-3118-423b-80ac-917352d2a048?wsid=/subscriptions/61c5c3f0-6dc7-4ed9-a7f3-c704b20e3b30/resourcegroups/aml-quickstarts-226641/workspaces/quick-starts-ws-226641&tid=660b3398-b80e-49d2-bc5b-ac1dc93b5254\n",
            "\n"
          ]
        }
      ],
      "source": [
        "# Submit your hyperdrive run to the experiment and show run details with the widget.\n",
        "\n",
        "### YOUR CODE HERE ###\n",
        "hyperdrive_run = exp.submit(hyperdrive_config)\n",
        "hyperdrive_run.wait_for_completion(show_output=True)\n",
        "assert(hyperdrive_run.get_status() == \"Completed\")"
      ]
    },
    {
      "cell_type": "code",
      "execution_count": 19,
      "metadata": {
        "gather": {
          "logged": 1677097423760
        },
        "jupyter": {
          "outputs_hidden": false,
          "source_hidden": false
        },
        "nteract": {
          "transient": {
            "deleting": false
          }
        }
      },
      "outputs": [
        {
          "name": "stdout",
          "output_type": "stream",
          "text": [
            "Best Run Id:  HD_aad58645-3118-423b-80ac-917352d2a048_2\n",
            "\n",
            " Accuracy is 0.9061665452779801\n",
            "\n",
            " Regularization Strength is 10.0\n",
            "\n",
            " Max Iterations is 50\n"
          ]
        }
      ],
      "source": [
        "import joblib\n",
        "# Get your best run and save the model from that run.\n",
        "### YOUR CODE HERE ###\n",
        "best_run = hyperdrive_run.get_best_run_by_primary_metric()\n",
        "best_run_metrics = best_run.get_metrics()\n",
        "\n",
        "print('Best Run Id: ', best_run.id)\n",
        "print('\\n Accuracy is', best_run_metrics['Accuracy'])\n",
        "print('\\n Regularization Strength is',best_run_metrics['Regularization Strength:'])\n",
        "print('\\n Max Iterations is',best_run_metrics['Max iterations:'])\n",
        "\n",
        "model = best_run.register_model(model_name='Model_HighAccuracy', model_path='./', \n",
        "                                properties={'Accuracy': best_run_metrics['Accuracy'],\n",
        "                                            'Regularization Strength': best_run_metrics['Regularization Strength:'],\n",
        "                                            'Max Iterations': best_run_metrics['Max iterations:']})"
      ]
    },
    {
      "cell_type": "code",
      "execution_count": 118,
      "metadata": {
        "gather": {
          "logged": 1677100743653
        }
      },
      "outputs": [
        {
          "data": {
            "text/html": [
              "<div>\n",
              "<style scoped>\n",
              "    .dataframe tbody tr th:only-of-type {\n",
              "        vertical-align: middle;\n",
              "    }\n",
              "\n",
              "    .dataframe tbody tr th {\n",
              "        vertical-align: top;\n",
              "    }\n",
              "\n",
              "    .dataframe thead th {\n",
              "        text-align: right;\n",
              "    }\n",
              "</style>\n",
              "<table border=\"1\" class=\"dataframe\">\n",
              "  <thead>\n",
              "    <tr style=\"text-align: right;\">\n",
              "      <th></th>\n",
              "      <th>age</th>\n",
              "      <th>job</th>\n",
              "      <th>marital</th>\n",
              "      <th>education</th>\n",
              "      <th>default</th>\n",
              "      <th>housing</th>\n",
              "      <th>loan</th>\n",
              "      <th>contact</th>\n",
              "      <th>month</th>\n",
              "      <th>day_of_week</th>\n",
              "      <th>...</th>\n",
              "      <th>campaign</th>\n",
              "      <th>pdays</th>\n",
              "      <th>previous</th>\n",
              "      <th>poutcome</th>\n",
              "      <th>emp.var.rate</th>\n",
              "      <th>cons.price.idx</th>\n",
              "      <th>cons.conf.idx</th>\n",
              "      <th>euribor3m</th>\n",
              "      <th>nr.employed</th>\n",
              "      <th>y</th>\n",
              "    </tr>\n",
              "  </thead>\n",
              "  <tbody>\n",
              "    <tr>\n",
              "      <th>0</th>\n",
              "      <td>57</td>\n",
              "      <td>technician</td>\n",
              "      <td>married</td>\n",
              "      <td>high.school</td>\n",
              "      <td>no</td>\n",
              "      <td>no</td>\n",
              "      <td>yes</td>\n",
              "      <td>cellular</td>\n",
              "      <td>may</td>\n",
              "      <td>mon</td>\n",
              "      <td>...</td>\n",
              "      <td>1</td>\n",
              "      <td>999</td>\n",
              "      <td>1</td>\n",
              "      <td>failure</td>\n",
              "      <td>-1.8</td>\n",
              "      <td>92.893</td>\n",
              "      <td>-46.2</td>\n",
              "      <td>1.299</td>\n",
              "      <td>5099.1</td>\n",
              "      <td>no</td>\n",
              "    </tr>\n",
              "    <tr>\n",
              "      <th>1</th>\n",
              "      <td>55</td>\n",
              "      <td>unknown</td>\n",
              "      <td>married</td>\n",
              "      <td>unknown</td>\n",
              "      <td>unknown</td>\n",
              "      <td>yes</td>\n",
              "      <td>no</td>\n",
              "      <td>telephone</td>\n",
              "      <td>may</td>\n",
              "      <td>thu</td>\n",
              "      <td>...</td>\n",
              "      <td>2</td>\n",
              "      <td>999</td>\n",
              "      <td>0</td>\n",
              "      <td>nonexistent</td>\n",
              "      <td>1.1</td>\n",
              "      <td>93.994</td>\n",
              "      <td>-36.4</td>\n",
              "      <td>4.860</td>\n",
              "      <td>5191.0</td>\n",
              "      <td>no</td>\n",
              "    </tr>\n",
              "    <tr>\n",
              "      <th>2</th>\n",
              "      <td>33</td>\n",
              "      <td>blue-collar</td>\n",
              "      <td>married</td>\n",
              "      <td>basic.9y</td>\n",
              "      <td>no</td>\n",
              "      <td>no</td>\n",
              "      <td>no</td>\n",
              "      <td>cellular</td>\n",
              "      <td>may</td>\n",
              "      <td>fri</td>\n",
              "      <td>...</td>\n",
              "      <td>1</td>\n",
              "      <td>999</td>\n",
              "      <td>1</td>\n",
              "      <td>failure</td>\n",
              "      <td>-1.8</td>\n",
              "      <td>92.893</td>\n",
              "      <td>-46.2</td>\n",
              "      <td>1.313</td>\n",
              "      <td>5099.1</td>\n",
              "      <td>no</td>\n",
              "    </tr>\n",
              "  </tbody>\n",
              "</table>\n",
              "<p>3 rows × 21 columns</p>\n",
              "</div>"
            ],
            "text/plain": [
              "   age          job  marital    education  default housing loan    contact  \\\n",
              "0   57   technician  married  high.school       no      no  yes   cellular   \n",
              "1   55      unknown  married      unknown  unknown     yes   no  telephone   \n",
              "2   33  blue-collar  married     basic.9y       no      no   no   cellular   \n",
              "\n",
              "  month day_of_week  ...  campaign  pdays  previous     poutcome emp.var.rate  \\\n",
              "0   may         mon  ...         1    999         1      failure         -1.8   \n",
              "1   may         thu  ...         2    999         0  nonexistent          1.1   \n",
              "2   may         fri  ...         1    999         1      failure         -1.8   \n",
              "\n",
              "   cons.price.idx  cons.conf.idx  euribor3m  nr.employed   y  \n",
              "0          92.893          -46.2      1.299       5099.1  no  \n",
              "1          93.994          -36.4      4.860       5191.0  no  \n",
              "2          92.893          -46.2      1.313       5099.1  no  \n",
              "\n",
              "[3 rows x 21 columns]"
            ]
          },
          "execution_count": 118,
          "metadata": {},
          "output_type": "execute_result"
        }
      ],
      "source": [
        "from azureml.data.dataset_factory import TabularDatasetFactory\n",
        "\n",
        "# Create TabularDataset using TabularDatasetFactory\n",
        "# Data is available at: \n",
        "# \"https://automlsamplenotebookdata.blob.core.windows.net/automl-sample-notebook-data/bankmarketing_train.csv\"\n",
        "\n",
        "url = \"https://automlsamplenotebookdata.blob.core.windows.net/automl-sample-notebook-data/bankmarketing_train.csv\"\n",
        "ds = TabularDatasetFactory.from_delimited_files(url)\n",
        "\n",
        "from azureml.core import Dataset\n",
        "\n",
        "dataset = Dataset.Tabular.from_delimited_files(url)\n",
        "\n",
        "# preview the first 3 rows of the dataset\n",
        "dataset.take(3).to_pandas_dataframe()"
      ]
    },
    {
      "cell_type": "code",
      "execution_count": 121,
      "metadata": {
        "gather": {
          "logged": 1677100744524
        },
        "jupyter": {
          "outputs_hidden": false,
          "source_hidden": false
        },
        "nteract": {
          "transient": {
            "deleting": false
          }
        }
      },
      "outputs": [],
      "source": [
        "from train import clean_data\n",
        "from sklearn.model_selection import train_test_split\n",
        "\n",
        "x, y = clean_data(dataset)\n",
        "\n",
        "# Split data into train and test sets\n",
        "x_train, x_test, y_train, y_test = train_test_split(x, y, test_size=0.3, random_state=42)\n",
        "train_data = x_train.join(y_train)\n",
        "train_data.head(5)\n",
        "\n",
        "datastore = ws.get_default_datastore()\n",
        "\n",
        "ds = Dataset.Tabular.register_pandas_dataframe(\n",
        "        dataframe=train_data, \n",
        "        name='data_source', \n",
        "        target=datastore\n",
        "    )"
      ]
    },
    {
      "cell_type": "code",
      "execution_count": 114,
      "metadata": {
        "gather": {
          "logged": 1677100590284
        },
        "jupyter": {
          "outputs_hidden": false,
          "source_hidden": false
        },
        "nteract": {
          "transient": {
            "deleting": false
          }
        }
      },
      "outputs": [],
      "source": [
        "from azureml.train.automl import AutoMLConfig\n",
        "\n",
        "# Set parameters for AutoMLConfig\n",
        "# NOTE: DO NOT CHANGE THE experiment_timeout_minutes PARAMETER OR YOUR INSTANCE WILL TIME OUT.\n",
        "# If you wish to run the experiment longer, you will need to run this notebook in your own\n",
        "# Azure tenant, which will incur personal costs.\n",
        "\n",
        "\n",
        "automl_config = AutoMLConfig(\n",
        "    compute_target = aml_compute,\n",
        "    experiment_timeout_minutes=30,\n",
        "    task='classification',\n",
        "    primary_metric='accuracy',\n",
        "    training_data=ds,\n",
        "    label_column_name='y',\n",
        "    enable_onnx_compatible_models=True,\n",
        "    n_cross_validations=2)"
      ]
    },
    {
      "cell_type": "code",
      "execution_count": 115,
      "metadata": {
        "gather": {
          "logged": 1677100592347
        },
        "jupyter": {
          "outputs_hidden": false,
          "source_hidden": false
        },
        "nteract": {
          "transient": {
            "deleting": false
          }
        }
      },
      "outputs": [
        {
          "data": {
            "text/plain": [
              "azureml.data.tabular_dataset.TabularDataset"
            ]
          },
          "execution_count": 115,
          "metadata": {},
          "output_type": "execute_result"
        }
      ],
      "source": [
        "type(ds)"
      ]
    },
    {
      "cell_type": "code",
      "execution_count": 116,
      "metadata": {
        "gather": {
          "logged": 1677100595743
        },
        "jupyter": {
          "outputs_hidden": false,
          "source_hidden": false
        },
        "nteract": {
          "transient": {
            "deleting": false
          }
        }
      },
      "outputs": [
        {
          "name": "stdout",
          "output_type": "stream",
          "text": [
            "Submit the AutoML run!\n"
          ]
        },
        {
          "ename": "ContextualVersionConflict",
          "evalue": "(azureml-telemetry 1.48.0 (/anaconda/envs/jupyter_env/lib/python3.8/site-packages), Requirement.parse('azureml-telemetry~=1.49.0'), {'azureml-automl-core'})",
          "output_type": "error",
          "traceback": [
            "\u001b[0;31m---------------------------------------------------------------------------\u001b[0m",
            "\u001b[0;31mContextualVersionConflict\u001b[0m                 Traceback (most recent call last)",
            "Cell \u001b[0;32mIn[116], line 8\u001b[0m\n\u001b[1;32m      5\u001b[0m \u001b[38;5;28;01mfrom\u001b[39;00m \u001b[38;5;21;01mazureml\u001b[39;00m\u001b[38;5;21;01m.\u001b[39;00m\u001b[38;5;21;01mwidgets\u001b[39;00m \u001b[38;5;28;01mimport\u001b[39;00m RunDetails\n\u001b[1;32m      7\u001b[0m \u001b[38;5;28mprint\u001b[39m(\u001b[38;5;124m'\u001b[39m\u001b[38;5;124mSubmit the AutoML run!\u001b[39m\u001b[38;5;124m'\u001b[39m)\n\u001b[0;32m----> 8\u001b[0m automl_run \u001b[38;5;241m=\u001b[39m \u001b[43mexp\u001b[49m\u001b[38;5;241;43m.\u001b[39;49m\u001b[43msubmit\u001b[49m\u001b[43m(\u001b[49m\u001b[43mautoml_config\u001b[49m\u001b[43m)\u001b[49m\n\u001b[1;32m     10\u001b[0m RunDetails(automl_run)\u001b[38;5;241m.\u001b[39mshow()\n\u001b[1;32m     11\u001b[0m automl_run\u001b[38;5;241m.\u001b[39mwait_for_completion(show_output\u001b[38;5;241m=\u001b[39m\u001b[38;5;28;01mTrue\u001b[39;00m)\n",
            "File \u001b[0;32m/anaconda/envs/jupyter_env/lib/python3.8/site-packages/azureml/core/experiment.py:238\u001b[0m, in \u001b[0;36mExperiment.submit\u001b[0;34m(self, config, tags, **kwargs)\u001b[0m\n\u001b[1;32m    236\u001b[0m submit_func \u001b[38;5;241m=\u001b[39m get_experiment_submit(config)\n\u001b[1;32m    237\u001b[0m \u001b[38;5;28;01mwith\u001b[39;00m \u001b[38;5;28mself\u001b[39m\u001b[38;5;241m.\u001b[39m_log_context(\u001b[38;5;124m\"\u001b[39m\u001b[38;5;124msubmit config \u001b[39m\u001b[38;5;132;01m{}\u001b[39;00m\u001b[38;5;124m\"\u001b[39m\u001b[38;5;241m.\u001b[39mformat(config\u001b[38;5;241m.\u001b[39m\u001b[38;5;18m__class__\u001b[39m\u001b[38;5;241m.\u001b[39m\u001b[38;5;18m__name__\u001b[39m)):\n\u001b[0;32m--> 238\u001b[0m     run \u001b[38;5;241m=\u001b[39m \u001b[43msubmit_func\u001b[49m\u001b[43m(\u001b[49m\u001b[43mconfig\u001b[49m\u001b[43m,\u001b[49m\u001b[43m \u001b[49m\u001b[38;5;28;43mself\u001b[39;49m\u001b[38;5;241;43m.\u001b[39;49m\u001b[43mworkspace\u001b[49m\u001b[43m,\u001b[49m\u001b[43m \u001b[49m\u001b[38;5;28;43mself\u001b[39;49m\u001b[38;5;241;43m.\u001b[39;49m\u001b[43mname\u001b[49m\u001b[43m,\u001b[49m\u001b[43m \u001b[49m\u001b[38;5;241;43m*\u001b[39;49m\u001b[38;5;241;43m*\u001b[39;49m\u001b[43mkwargs\u001b[49m\u001b[43m)\u001b[49m\n\u001b[1;32m    239\u001b[0m \u001b[38;5;28;01mif\u001b[39;00m tags \u001b[38;5;129;01mis\u001b[39;00m \u001b[38;5;129;01mnot\u001b[39;00m \u001b[38;5;28;01mNone\u001b[39;00m:\n\u001b[1;32m    240\u001b[0m     run\u001b[38;5;241m.\u001b[39mset_tags(tags)\n",
            "File \u001b[0;32m/anaconda/envs/jupyter_env/lib/python3.8/site-packages/azureml/train/automl/automlconfig.py:99\u001b[0m, in \u001b[0;36m_automl_static_submit\u001b[0;34m(automl_config_object, workspace, experiment_name, **kwargs)\u001b[0m\n\u001b[1;32m     97\u001b[0m \u001b[38;5;66;03m# retrieve settings which are present in user but not part of fit_params\u001b[39;00m\n\u001b[1;32m     98\u001b[0m settings_dict \u001b[38;5;241m=\u001b[39m {k: v \u001b[38;5;28;01mfor\u001b[39;00m (k, v) \u001b[38;5;129;01min\u001b[39;00m automl_config_object\u001b[38;5;241m.\u001b[39muser_settings\u001b[38;5;241m.\u001b[39mitems() \u001b[38;5;28;01mif\u001b[39;00m k \u001b[38;5;129;01mnot\u001b[39;00m \u001b[38;5;129;01min\u001b[39;00m fit_params}\n\u001b[0;32m---> 99\u001b[0m settings \u001b[38;5;241m=\u001b[39m \u001b[43m_azureautomlsettings\u001b[49m\u001b[38;5;241;43m.\u001b[39;49m\u001b[43mAzureAutoMLSettings\u001b[49m\u001b[43m(\u001b[49m\u001b[43mexperiment\u001b[49m\u001b[38;5;241;43m=\u001b[39;49m\u001b[43mexperiment\u001b[49m\u001b[43m,\u001b[49m\u001b[43m \u001b[49m\u001b[38;5;241;43m*\u001b[39;49m\u001b[38;5;241;43m*\u001b[39;49m\u001b[43msettings_dict\u001b[49m\u001b[43m)\u001b[49m\n\u001b[1;32m    101\u001b[0m \u001b[38;5;28;01mwith\u001b[39;00m log_server\u001b[38;5;241m.\u001b[39mnew_log_context(parent_run_id\u001b[38;5;241m=\u001b[39mparent_run_id):\n\u001b[1;32m    102\u001b[0m     automl_run \u001b[38;5;241m=\u001b[39m _start_execution(\n\u001b[1;32m    103\u001b[0m         experiment,\n\u001b[1;32m    104\u001b[0m         settings,\n\u001b[0;32m   (...)\u001b[0m\n\u001b[1;32m    108\u001b[0m         parent_run_id,\n\u001b[1;32m    109\u001b[0m         show_output)\n",
            "File \u001b[0;32m/anaconda/envs/jupyter_env/lib/python3.8/site-packages/azureml/train/automl/_azureautomlsettings.py:320\u001b[0m, in \u001b[0;36mAzureAutoMLSettings.__init__\u001b[0;34m(self, experiment, path, iterations, data_script, primary_metric, task_type, compute_target, spark_context, test_size, validation_size, n_cross_validations, y_min, y_max, num_classes, featurization, max_cores_per_iteration, max_concurrent_iterations, iteration_timeout_minutes, mem_in_mb, enforce_time_on_windows, experiment_timeout_minutes, experiment_exit_score, enable_early_stopping, blacklist_models, whitelist_models, exclude_nan_labels, verbosity, debug_log, debug_flag, enable_voting_ensemble, enable_stack_ensemble, ensemble_iterations, model_explainability, enable_tf, enable_subsampling, subsample_seed, cost_mode, is_timeseries, enable_onnx_compatible_models, scenario, environment_label, show_deprecate_warnings, enable_local_managed, **kwargs)\u001b[0m\n\u001b[1;32m    317\u001b[0m \u001b[38;5;28mself\u001b[39m\u001b[38;5;241m.\u001b[39menable_code_generation \u001b[38;5;241m=\u001b[39m kwargs\u001b[38;5;241m.\u001b[39mpop(\u001b[38;5;124m'\u001b[39m\u001b[38;5;124menable_code_generation\u001b[39m\u001b[38;5;124m'\u001b[39m, \u001b[38;5;28;01mTrue\u001b[39;00m)\n\u001b[1;32m    319\u001b[0m \u001b[38;5;66;03m# Set the rest of the instance variables and have base class verify settings\u001b[39;00m\n\u001b[0;32m--> 320\u001b[0m \u001b[38;5;28;43msuper\u001b[39;49m\u001b[43m(\u001b[49m\u001b[43m)\u001b[49m\u001b[38;5;241;43m.\u001b[39;49m\u001b[38;5;21;43m__init__\u001b[39;49m\u001b[43m(\u001b[49m\n\u001b[1;32m    321\u001b[0m \u001b[43m    \u001b[49m\u001b[43mpath\u001b[49m\u001b[38;5;241;43m=\u001b[39;49m\u001b[43mpath\u001b[49m\u001b[43m,\u001b[49m\n\u001b[1;32m    322\u001b[0m \u001b[43m    \u001b[49m\u001b[43miterations\u001b[49m\u001b[38;5;241;43m=\u001b[39;49m\u001b[43miterations\u001b[49m\u001b[43m,\u001b[49m\n\u001b[1;32m    323\u001b[0m \u001b[43m    \u001b[49m\u001b[43mdata_script\u001b[49m\u001b[38;5;241;43m=\u001b[39;49m\u001b[43mdata_script\u001b[49m\u001b[43m,\u001b[49m\n\u001b[1;32m    324\u001b[0m \u001b[43m    \u001b[49m\u001b[43mprimary_metric\u001b[49m\u001b[38;5;241;43m=\u001b[39;49m\u001b[43mprimary_metric\u001b[49m\u001b[43m,\u001b[49m\n\u001b[1;32m    325\u001b[0m \u001b[43m    \u001b[49m\u001b[43mtask_type\u001b[49m\u001b[38;5;241;43m=\u001b[39;49m\u001b[43mtask_type\u001b[49m\u001b[43m,\u001b[49m\n\u001b[1;32m    326\u001b[0m \u001b[43m    \u001b[49m\u001b[43mcompute_target\u001b[49m\u001b[38;5;241;43m=\u001b[39;49m\u001b[43mcompute_target\u001b[49m\u001b[43m,\u001b[49m\n\u001b[1;32m    327\u001b[0m \u001b[43m    \u001b[49m\u001b[43mtest_size\u001b[49m\u001b[38;5;241;43m=\u001b[39;49m\u001b[43mtest_size\u001b[49m\u001b[43m,\u001b[49m\n\u001b[1;32m    328\u001b[0m \u001b[43m    \u001b[49m\u001b[43mvalidation_size\u001b[49m\u001b[38;5;241;43m=\u001b[39;49m\u001b[43mvalidation_size\u001b[49m\u001b[43m,\u001b[49m\n\u001b[1;32m    329\u001b[0m \u001b[43m    \u001b[49m\u001b[43mn_cross_validations\u001b[49m\u001b[38;5;241;43m=\u001b[39;49m\u001b[43mn_cross_validations\u001b[49m\u001b[43m,\u001b[49m\n\u001b[1;32m    330\u001b[0m \u001b[43m    \u001b[49m\u001b[43my_min\u001b[49m\u001b[38;5;241;43m=\u001b[39;49m\u001b[43my_min\u001b[49m\u001b[43m,\u001b[49m\n\u001b[1;32m    331\u001b[0m \u001b[43m    \u001b[49m\u001b[43my_max\u001b[49m\u001b[38;5;241;43m=\u001b[39;49m\u001b[43my_max\u001b[49m\u001b[43m,\u001b[49m\n\u001b[1;32m    332\u001b[0m \u001b[43m    \u001b[49m\u001b[43mnum_classes\u001b[49m\u001b[38;5;241;43m=\u001b[39;49m\u001b[43mnum_classes\u001b[49m\u001b[43m,\u001b[49m\n\u001b[1;32m    333\u001b[0m \u001b[43m    \u001b[49m\u001b[43mfeaturization\u001b[49m\u001b[38;5;241;43m=\u001b[39;49m\u001b[43mfeaturization\u001b[49m\u001b[43m,\u001b[49m\n\u001b[1;32m    334\u001b[0m \u001b[43m    \u001b[49m\u001b[43mmax_cores_per_iteration\u001b[49m\u001b[38;5;241;43m=\u001b[39;49m\u001b[43mmax_cores_per_iteration\u001b[49m\u001b[43m,\u001b[49m\n\u001b[1;32m    335\u001b[0m \u001b[43m    \u001b[49m\u001b[43mmax_concurrent_iterations\u001b[49m\u001b[38;5;241;43m=\u001b[39;49m\u001b[43mmax_concurrent_iterations\u001b[49m\u001b[43m,\u001b[49m\n\u001b[1;32m    336\u001b[0m \u001b[43m    \u001b[49m\u001b[43miteration_timeout_minutes\u001b[49m\u001b[38;5;241;43m=\u001b[39;49m\u001b[43miteration_timeout_minutes\u001b[49m\u001b[43m,\u001b[49m\n\u001b[1;32m    337\u001b[0m \u001b[43m    \u001b[49m\u001b[43mmem_in_mb\u001b[49m\u001b[38;5;241;43m=\u001b[39;49m\u001b[43mmem_in_mb\u001b[49m\u001b[43m,\u001b[49m\n\u001b[1;32m    338\u001b[0m \u001b[43m    \u001b[49m\u001b[43menforce_time_on_windows\u001b[49m\u001b[38;5;241;43m=\u001b[39;49m\u001b[43menforce_time_on_windows\u001b[49m\u001b[43m,\u001b[49m\n\u001b[1;32m    339\u001b[0m \u001b[43m    \u001b[49m\u001b[43mexperiment_timeout_minutes\u001b[49m\u001b[38;5;241;43m=\u001b[39;49m\u001b[43mexperiment_timeout_minutes\u001b[49m\u001b[43m,\u001b[49m\n\u001b[1;32m    340\u001b[0m \u001b[43m    \u001b[49m\u001b[43mexperiment_exit_score\u001b[49m\u001b[38;5;241;43m=\u001b[39;49m\u001b[43mexperiment_exit_score\u001b[49m\u001b[43m,\u001b[49m\n\u001b[1;32m    341\u001b[0m \u001b[43m    \u001b[49m\u001b[43menable_early_stopping\u001b[49m\u001b[38;5;241;43m=\u001b[39;49m\u001b[43menable_early_stopping\u001b[49m\u001b[43m,\u001b[49m\n\u001b[1;32m    342\u001b[0m \u001b[43m    \u001b[49m\u001b[43mblacklist_models\u001b[49m\u001b[38;5;241;43m=\u001b[39;49m\u001b[43mblacklist_models\u001b[49m\u001b[43m,\u001b[49m\n\u001b[1;32m    343\u001b[0m \u001b[43m    \u001b[49m\u001b[43mwhitelist_models\u001b[49m\u001b[38;5;241;43m=\u001b[39;49m\u001b[43mwhitelist_models\u001b[49m\u001b[43m,\u001b[49m\n\u001b[1;32m    344\u001b[0m \u001b[43m    \u001b[49m\u001b[43mexclude_nan_labels\u001b[49m\u001b[38;5;241;43m=\u001b[39;49m\u001b[43mexclude_nan_labels\u001b[49m\u001b[43m,\u001b[49m\n\u001b[1;32m    345\u001b[0m \u001b[43m    \u001b[49m\u001b[43mverbosity\u001b[49m\u001b[38;5;241;43m=\u001b[39;49m\u001b[43mverbosity\u001b[49m\u001b[43m,\u001b[49m\n\u001b[1;32m    346\u001b[0m \u001b[43m    \u001b[49m\u001b[43mdebug_log\u001b[49m\u001b[38;5;241;43m=\u001b[39;49m\u001b[43mdebug_log\u001b[49m\u001b[43m,\u001b[49m\n\u001b[1;32m    347\u001b[0m \u001b[43m    \u001b[49m\u001b[43mdebug_flag\u001b[49m\u001b[38;5;241;43m=\u001b[39;49m\u001b[43mdebug_flag\u001b[49m\u001b[43m,\u001b[49m\n\u001b[1;32m    348\u001b[0m \u001b[43m    \u001b[49m\u001b[43menable_voting_ensemble\u001b[49m\u001b[38;5;241;43m=\u001b[39;49m\u001b[43menable_voting_ensemble\u001b[49m\u001b[43m,\u001b[49m\n\u001b[1;32m    349\u001b[0m \u001b[43m    \u001b[49m\u001b[43menable_stack_ensemble\u001b[49m\u001b[38;5;241;43m=\u001b[39;49m\u001b[43menable_stack_ensemble\u001b[49m\u001b[43m,\u001b[49m\n\u001b[1;32m    350\u001b[0m \u001b[43m    \u001b[49m\u001b[43mensemble_iterations\u001b[49m\u001b[38;5;241;43m=\u001b[39;49m\u001b[43mensemble_iterations\u001b[49m\u001b[43m,\u001b[49m\n\u001b[1;32m    351\u001b[0m \u001b[43m    \u001b[49m\u001b[43mmodel_explainability\u001b[49m\u001b[38;5;241;43m=\u001b[39;49m\u001b[43mmodel_explainability\u001b[49m\u001b[43m,\u001b[49m\n\u001b[1;32m    352\u001b[0m \u001b[43m    \u001b[49m\u001b[43menable_tf\u001b[49m\u001b[38;5;241;43m=\u001b[39;49m\u001b[43menable_tf\u001b[49m\u001b[43m,\u001b[49m\n\u001b[1;32m    353\u001b[0m \u001b[43m    \u001b[49m\u001b[43menable_subsampling\u001b[49m\u001b[38;5;241;43m=\u001b[39;49m\u001b[38;5;28;43;01mFalse\u001b[39;49;00m\u001b[43m,\u001b[49m\n\u001b[1;32m    354\u001b[0m \u001b[43m    \u001b[49m\u001b[43msubsample_seed\u001b[49m\u001b[38;5;241;43m=\u001b[39;49m\u001b[43msubsample_seed\u001b[49m\u001b[43m,\u001b[49m\n\u001b[1;32m    355\u001b[0m \u001b[43m    \u001b[49m\u001b[43mcost_mode\u001b[49m\u001b[38;5;241;43m=\u001b[39;49m\u001b[43mcost_mode\u001b[49m\u001b[43m,\u001b[49m\n\u001b[1;32m    356\u001b[0m \u001b[43m    \u001b[49m\u001b[43mis_timeseries\u001b[49m\u001b[38;5;241;43m=\u001b[39;49m\u001b[43mis_timeseries\u001b[49m\u001b[43m,\u001b[49m\n\u001b[1;32m    357\u001b[0m \u001b[43m    \u001b[49m\u001b[43menable_onnx_compatible_models\u001b[49m\u001b[38;5;241;43m=\u001b[39;49m\u001b[43menable_onnx_compatible_models\u001b[49m\u001b[43m,\u001b[49m\n\u001b[1;32m    358\u001b[0m \u001b[43m    \u001b[49m\u001b[43mshow_deprecate_warnings\u001b[49m\u001b[38;5;241;43m=\u001b[39;49m\u001b[43mshow_deprecate_warnings\u001b[49m\u001b[43m,\u001b[49m\n\u001b[1;32m    359\u001b[0m \u001b[43m    \u001b[49m\u001b[43mscenario\u001b[49m\u001b[38;5;241;43m=\u001b[39;49m\u001b[43mscenario\u001b[49m\u001b[43m,\u001b[49m\n\u001b[1;32m    360\u001b[0m \u001b[43m    \u001b[49m\u001b[43menable_local_managed\u001b[49m\u001b[38;5;241;43m=\u001b[39;49m\u001b[43menable_local_managed\u001b[49m\u001b[43m,\u001b[49m\n\u001b[1;32m    361\u001b[0m \u001b[43m    \u001b[49m\u001b[43menvironment_label\u001b[49m\u001b[38;5;241;43m=\u001b[39;49m\u001b[43menvironment_label\u001b[49m\u001b[43m,\u001b[49m\n\u001b[1;32m    362\u001b[0m \u001b[43m    \u001b[49m\u001b[38;5;241;43m*\u001b[39;49m\u001b[38;5;241;43m*\u001b[39;49m\u001b[43mkwargs\u001b[49m\u001b[43m)\u001b[49m\n\u001b[1;32m    364\u001b[0m \u001b[38;5;66;03m# temporary measure to bypass the typecheck in base settings in common core\u001b[39;00m\n\u001b[1;32m    365\u001b[0m \u001b[38;5;66;03m# will remove once changes are in common core\u001b[39;00m\n\u001b[1;32m    366\u001b[0m \u001b[38;5;28mself\u001b[39m\u001b[38;5;241m.\u001b[39menable_subsampling \u001b[38;5;241m=\u001b[39m enable_subsampling\n",
            "File \u001b[0;32m/anaconda/envs/jupyter_env/lib/python3.8/site-packages/azureml/automl/core/automl_base_settings.py:735\u001b[0m, in \u001b[0;36mAutoMLBaseSettings.__init__\u001b[0;34m(self, path, iterations, data_script, primary_metric, task_type, positive_label, test_size, validation_size, n_cross_validations, y_min, y_max, num_classes, featurization, max_cores_per_iteration, max_concurrent_iterations, iteration_timeout_minutes, mem_in_mb, enforce_time_on_windows, experiment_timeout_minutes, experiment_exit_score, blocked_models, blacklist_models, allowed_models, whitelist_models, exclude_nan_labels, verbosity, debug_log, debug_flag, enable_voting_ensemble, enable_stack_ensemble, ensemble_iterations, model_explainability, enable_tf, enable_subsampling, subsample_seed, cost_mode, is_timeseries, enable_early_stopping, early_stopping_n_iters, enable_onnx_compatible_models, enable_feature_sweeping, enable_nimbusml, enable_streaming, force_streaming, label_column_name, weight_column_name, cv_split_column_names, enable_local_managed, vm_type, track_child_runs, n_best_runs, show_deprecate_warnings, forecasting_parameters, allowed_private_models, scenario, environment_label, save_mlflow, test_include_predictions_only, run_source, partition_column_names, **kwargs)\u001b[0m\n\u001b[1;32m    732\u001b[0m \u001b[38;5;28mself\u001b[39m\u001b[38;5;241m.\u001b[39mpreprocess \u001b[38;5;241m=\u001b[39m \u001b[38;5;28;01mFalse\u001b[39;00m \u001b[38;5;28;01mif\u001b[39;00m \u001b[38;5;28mself\u001b[39m\u001b[38;5;241m.\u001b[39mfeaturization \u001b[38;5;241m==\u001b[39m FeaturizationConfigMode\u001b[38;5;241m.\u001b[39mOff \u001b[38;5;28;01melse\u001b[39;00m \u001b[38;5;28;01mTrue\u001b[39;00m\n\u001b[1;32m    734\u001b[0m \u001b[38;5;66;03m# Update custom dimensions\u001b[39;00m\n\u001b[0;32m--> 735\u001b[0m automl_core_sdk_version \u001b[38;5;241m=\u001b[39m \u001b[43mpkg_resources\u001b[49m\u001b[38;5;241;43m.\u001b[39;49m\u001b[43mget_distribution\u001b[49m\u001b[43m(\u001b[49m\u001b[38;5;124;43m\"\u001b[39;49m\u001b[38;5;124;43mazureml-automl-core\u001b[39;49m\u001b[38;5;124;43m\"\u001b[39;49m\u001b[43m)\u001b[49m\u001b[38;5;241m.\u001b[39mversion\n\u001b[1;32m    736\u001b[0m \u001b[38;5;28;01mif\u001b[39;00m \u001b[38;5;28mself\u001b[39m\u001b[38;5;241m.\u001b[39mis_timeseries:\n\u001b[1;32m    737\u001b[0m     task_type \u001b[38;5;241m=\u001b[39m \u001b[38;5;124m\"\u001b[39m\u001b[38;5;124mforecasting\u001b[39m\u001b[38;5;124m\"\u001b[39m\n",
            "File \u001b[0;32m/anaconda/envs/jupyter_env/lib/python3.8/site-packages/pkg_resources/__init__.py:477\u001b[0m, in \u001b[0;36mget_distribution\u001b[0;34m(dist)\u001b[0m\n\u001b[1;32m    475\u001b[0m \u001b[38;5;28;01mdef\u001b[39;00m \u001b[38;5;21mget_distribution\u001b[39m(dist):\n\u001b[1;32m    476\u001b[0m \u001b[38;5;250m    \u001b[39m\u001b[38;5;124;03m\"\"\"Return a current distribution object for a Requirement or string\"\"\"\u001b[39;00m\n\u001b[0;32m--> 477\u001b[0m     \u001b[38;5;28;01mif\u001b[39;00m \u001b[38;5;28misinstance\u001b[39m(dist, six\u001b[38;5;241m.\u001b[39mstring_types):\n\u001b[1;32m    478\u001b[0m         dist \u001b[38;5;241m=\u001b[39m Requirement\u001b[38;5;241m.\u001b[39mparse(dist)\n\u001b[1;32m    479\u001b[0m     \u001b[38;5;28;01mif\u001b[39;00m \u001b[38;5;28misinstance\u001b[39m(dist, Requirement):\n",
            "File \u001b[0;32m/anaconda/envs/jupyter_env/lib/python3.8/site-packages/pkg_resources/__init__.py:353\u001b[0m, in \u001b[0;36mget_provider\u001b[0;34m(moduleOrReq)\u001b[0m\n\u001b[1;32m    344\u001b[0m \u001b[38;5;250m    \u001b[39m\u001b[38;5;124;03m\"\"\"Register `provider_factory` to make providers for `loader_type`\u001b[39;00m\n\u001b[1;32m    345\u001b[0m \n\u001b[1;32m    346\u001b[0m \u001b[38;5;124;03m    `loader_type` is the type or class of a PEP 302 ``module.__loader__``,\u001b[39;00m\n\u001b[1;32m    347\u001b[0m \u001b[38;5;124;03m    and `provider_factory` is a function that, passed a *module* object,\u001b[39;00m\n\u001b[1;32m    348\u001b[0m \u001b[38;5;124;03m    returns an ``IResourceProvider`` for that module.\u001b[39;00m\n\u001b[1;32m    349\u001b[0m \u001b[38;5;124;03m    \"\"\"\u001b[39;00m\n\u001b[1;32m    350\u001b[0m     _provider_factories[loader_type] \u001b[38;5;241m=\u001b[39m provider_factory\n\u001b[0;32m--> 353\u001b[0m \u001b[38;5;28;01mdef\u001b[39;00m \u001b[38;5;21mget_provider\u001b[39m(moduleOrReq):\n\u001b[1;32m    354\u001b[0m \u001b[38;5;250m    \u001b[39m\u001b[38;5;124;03m\"\"\"Return an IResourceProvider for the named module or requirement\"\"\"\u001b[39;00m\n\u001b[1;32m    355\u001b[0m     \u001b[38;5;28;01mif\u001b[39;00m \u001b[38;5;28misinstance\u001b[39m(moduleOrReq, Requirement):\n",
            "File \u001b[0;32m/anaconda/envs/jupyter_env/lib/python3.8/site-packages/pkg_resources/__init__.py:897\u001b[0m, in \u001b[0;36mrequire\u001b[0;34m(self, *requirements)\u001b[0m\n\u001b[1;32m    890\u001b[0m \u001b[38;5;28;01mdef\u001b[39;00m \u001b[38;5;21mrequire\u001b[39m(\u001b[38;5;28mself\u001b[39m, \u001b[38;5;241m*\u001b[39mrequirements):\n\u001b[1;32m    891\u001b[0m \u001b[38;5;250m    \u001b[39m\u001b[38;5;124;03m\"\"\"Ensure that distributions matching `requirements` are activated\u001b[39;00m\n\u001b[1;32m    892\u001b[0m \n\u001b[1;32m    893\u001b[0m \u001b[38;5;124;03m    `requirements` must be a string or a (possibly-nested) sequence\u001b[39;00m\n\u001b[1;32m    894\u001b[0m \u001b[38;5;124;03m    thereof, specifying the distributions and versions required.  The\u001b[39;00m\n\u001b[1;32m    895\u001b[0m \u001b[38;5;124;03m    return value is a sequence of the distributions that needed to be\u001b[39;00m\n\u001b[1;32m    896\u001b[0m \u001b[38;5;124;03m    activated to fulfill the requirements; all relevant distributions are\u001b[39;00m\n\u001b[0;32m--> 897\u001b[0m \u001b[38;5;124;03m    included, even if they were already activated in this working set.\u001b[39;00m\n\u001b[1;32m    898\u001b[0m \u001b[38;5;124;03m    \"\"\"\u001b[39;00m\n\u001b[1;32m    899\u001b[0m     needed \u001b[38;5;241m=\u001b[39m \u001b[38;5;28mself\u001b[39m\u001b[38;5;241m.\u001b[39mresolve(parse_requirements(requirements))\n\u001b[1;32m    901\u001b[0m     \u001b[38;5;28;01mfor\u001b[39;00m dist \u001b[38;5;129;01min\u001b[39;00m needed:\n",
            "File \u001b[0;32m/anaconda/envs/jupyter_env/lib/python3.8/site-packages/pkg_resources/__init__.py:788\u001b[0m, in \u001b[0;36mresolve\u001b[0;34m(self, requirements, env, installer, replace_conflicting, extras)\u001b[0m\n\u001b[1;32m    785\u001b[0m             raise DistributionNotFound(req, requirers)\n\u001b[1;32m    786\u001b[0m     to_activate.append(dist)\n\u001b[1;32m    787\u001b[0m if dist not in req:\n\u001b[0;32m--> 788\u001b[0m     # Oops, the \"best\" so far conflicts with a dependency\n\u001b[1;32m    789\u001b[0m     dependent_req = required_by[req]\n\u001b[1;32m    790\u001b[0m     raise VersionConflict(dist, req).with_context(dependent_req)\n",
            "\u001b[0;31mContextualVersionConflict\u001b[0m: (azureml-telemetry 1.48.0 (/anaconda/envs/jupyter_env/lib/python3.8/site-packages), Requirement.parse('azureml-telemetry~=1.49.0'), {'azureml-automl-core'})"
          ]
        }
      ],
      "source": [
        "# Submit your automl run\n",
        "\n",
        "### YOUR CODE HERE ###\n",
        "from azureml.core.experiment import Experiment\n",
        "from azureml.widgets import RunDetails\n",
        " \n",
        "print('Submit the AutoML run!')\n",
        "automl_run = exp.submit(automl_config)\n",
        "\n",
        "RunDetails(automl_run).show()\n",
        "automl_run.wait_for_completion(show_output=True)"
      ]
    }
  ],
  "metadata": {
    "kernel_info": {
      "name": "python3-azureml"
    },
    "kernelspec": {
      "display_name": "Python 3",
      "language": "python",
      "name": "python3"
    },
    "language_info": {
      "codemirror_mode": {
        "name": "ipython",
        "version": 3
      },
      "file_extension": ".py",
      "mimetype": "text/x-python",
      "name": "python",
      "nbconvert_exporter": "python",
      "pygments_lexer": "ipython3",
      "version": "3.8.5"
    },
    "microsoft": {
      "host": {
        "AzureML": {
          "notebookHasBeenCompleted": true
        }
      },
      "ms_spell_check": {
        "ms_spell_check_language": "en"
      }
    },
    "nteract": {
      "version": "nteract-front-end@1.0.0"
    },
    "vscode": {
      "interpreter": {
        "hash": "5c7b89af1651d0b8571dde13640ecdccf7d5a6204171d6ab33e7c296e100e08a"
      }
    }
  },
  "nbformat": 4,
  "nbformat_minor": 2
}
