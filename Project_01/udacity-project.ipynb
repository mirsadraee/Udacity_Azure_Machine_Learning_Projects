{
  "cells": [
    {
      "attachments": {},
      "cell_type": "markdown",
      "source": [
        "## Optimizing an ML Pipeline in Azure\n",
        "### Overview\n",
        "This project is part of the Udacity Azure ML Nanodegree. In this project, we build and optimize an Azure ML pipeline using the Python SDK and a provided Scikit-learn model. This model is then compared to an Azure AutoML run."
      ],
      "metadata": {}
    },
    {
      "cell_type": "code",
      "source": [
        "from azureml.core import Workspace, Experiment\n",
        "\n",
        "ws = Workspace.from_config()\n",
        "exp = Experiment(workspace=ws, name=\"udacity-project\")\n",
        "\n",
        "print('Workspace name: ' + ws.name, \n",
        "      'Azure region: ' + ws.location, \n",
        "      'Subscription id: ' + ws.subscription_id, \n",
        "      'Resource group: ' + ws.resource_group, sep = '\\n')\n",
        "\n",
        "run = exp.start_logging()"
      ],
      "outputs": [
        {
          "output_type": "stream",
          "name": "stdout",
          "text": "Workspace name: quick-starts-ws-227131\nAzure region: southcentralus\nSubscription id: a24a24d5-8d87-4c8a-99b6-91ed2d2df51f\nResource group: aml-quickstarts-227131\n"
        }
      ],
      "execution_count": 1,
      "metadata": {
        "gather": {
          "logged": 1677885669684
        }
      }
    },
    {
      "cell_type": "code",
      "source": [
        "from azureml.core.compute import ComputeTarget, AmlCompute\n",
        "from azureml.core.compute_target import ComputeTargetException\n",
        "\n",
        "# Choose a name for your CPU cluster\n",
        "cluster_name = \"compute-cluster\"\n",
        "\n",
        "# TODO: Create compute cluster\n",
        "# Use vm_size = \"Standard_D2_V2\" in your provisioning configuration.\n",
        "# max_nodes should be no greater than 4.\n",
        "\n",
        "try:\n",
        "    aml_compute = ComputeTarget(workspace=ws, name=cluster_name)\n",
        "    print('An existing cluster will be used!')\n",
        "except ComputeTargetException:\n",
        "    compute_config = AmlCompute.provisioning_configuration(vm_size='Standard_D2_V2', max_nodes=4)\n",
        "    aml_compute = ComputeTarget.create(ws, cluster_name, compute_config)\n",
        "    print('An new cluster will be created now!')\n",
        "\n",
        "aml_compute.wait_for_completion(show_output=True)"
      ],
      "outputs": [
        {
          "output_type": "stream",
          "name": "stdout",
          "text": "An new cluster will be created now!\nInProgress..\nSucceededProvisioning operation finished, operation \"Succeeded\"\nSucceeded\nAmlCompute wait for completion finished\n\nMinimum number of nodes requested have been provisioned\n"
        }
      ],
      "execution_count": 2,
      "metadata": {
        "gather": {
          "logged": 1677885681912
        },
        "jupyter": {
          "outputs_hidden": false,
          "source_hidden": false
        },
        "nteract": {
          "transient": {
            "deleting": false
          }
        }
      }
    },
    {
      "cell_type": "code",
      "source": [
        "from azureml.widgets import RunDetails\n",
        "from azureml.train.hyperdrive.run import PrimaryMetricGoal\n",
        "from azureml.train.hyperdrive.policy import BanditPolicy\n",
        "from azureml.train.hyperdrive.sampling import RandomParameterSampling\n",
        "from azureml.train.hyperdrive.runconfig import HyperDriveConfig\n",
        "from azureml.train.hyperdrive.parameter_expressions import choice, uniform\n",
        "from azureml.core import Environment, ScriptRunConfig\n",
        "import os\n",
        "\n",
        "# Specify parameter sampler\n",
        "ps = RandomParameterSampling(\n",
        "    {\n",
        "        '--C': choice(0.1, 0.5, 1, 10, 20, 50),\n",
        "        '--max_iter': choice(10, 50, 100, 200)\n",
        "    }\n",
        ")\n",
        "\n",
        "# Specify a Policy\n",
        "policy = BanditPolicy(slack_factor = 0.1, delay_evaluation = 5, evaluation_interval = 1)\n",
        "\n",
        "if \"training\" not in os.listdir():\n",
        "    os.mkdir(\"./training\")\n",
        "\n",
        "# Setup environment for your training run\n",
        "sklearn_env = Environment.from_conda_specification(name='sklearn-env', file_path='conda_dependencies.yml')\n",
        "\n",
        "# Create a ScriptRunConfig Object to specify the configuration details of your training job\n",
        "src = ScriptRunConfig(source_directory='.',\n",
        "                      command=['python', 'train.py'],\n",
        "                      compute_target=aml_compute,\n",
        "                      environment=sklearn_env)\n",
        "\n",
        "# Create a HyperDriveConfig using the src object, hyperparameter sampler, and policy.\n",
        "hyperdrive_config = HyperDriveConfig(run_config=src,\n",
        "                                     hyperparameter_sampling=ps,\n",
        "                                     policy=policy,\n",
        "                                     primary_metric_name='Accuracy',\n",
        "                                     primary_metric_goal=PrimaryMetricGoal.MAXIMIZE,\n",
        "                                     max_total_runs=20,\n",
        "                                     max_concurrent_runs=4)"
      ],
      "outputs": [],
      "execution_count": 3,
      "metadata": {
        "gather": {
          "logged": 1677885698424
        },
        "jupyter": {
          "outputs_hidden": false,
          "source_hidden": false
        },
        "nteract": {
          "transient": {
            "deleting": false
          }
        }
      }
    },
    {
      "cell_type": "code",
      "source": [
        "# Submit the hyperdrive run to the experiment and show run details with the widget.\n",
        "hyperdrive_run = exp.submit(hyperdrive_config)\n",
        "hyperdrive_run.wait_for_completion(show_output=True)\n",
        "assert(hyperdrive_run.get_status() == \"Completed\")"
      ],
      "outputs": [
        {
          "output_type": "stream",
          "name": "stdout",
          "text": "RunId: HD_2ba57ffc-2a77-4eb4-8e8c-924c814030f9\nWeb View: https://ml.azure.com/runs/HD_2ba57ffc-2a77-4eb4-8e8c-924c814030f9?wsid=/subscriptions/a24a24d5-8d87-4c8a-99b6-91ed2d2df51f/resourcegroups/aml-quickstarts-227131/workspaces/quick-starts-ws-227131&tid=660b3398-b80e-49d2-bc5b-ac1dc93b5254\n\nStreaming azureml-logs/hyperdrive.txt\n=====================================\n\n[2023-03-03T23:21:52.213543][GENERATOR][INFO]Trying to sample '4' jobs from the hyperparameter space\n[2023-03-03T23:21:53.5907689Z][SCHEDULER][INFO]Scheduling job, id='HD_2ba57ffc-2a77-4eb4-8e8c-924c814030f9_1' \n[2023-03-03T23:21:53.4406114Z][SCHEDULER][INFO]Scheduling job, id='HD_2ba57ffc-2a77-4eb4-8e8c-924c814030f9_0' \n[2023-03-03T23:21:53.7161920Z][SCHEDULER][INFO]Scheduling job, id='HD_2ba57ffc-2a77-4eb4-8e8c-924c814030f9_2' \n[2023-03-03T23:21:53.764260][GENERATOR][INFO]Successfully sampled '4' jobs, they will soon be submitted to the execution target.\n[2023-03-03T23:21:53.8246953Z][SCHEDULER][INFO]Scheduling job, id='HD_2ba57ffc-2a77-4eb4-8e8c-924c814030f9_3' \n[2023-03-03T23:21:54.6258105Z][SCHEDULER][INFO]Successfully scheduled a job. Id='HD_2ba57ffc-2a77-4eb4-8e8c-924c814030f9_2' \n[2023-03-03T23:21:54.6106106Z][SCHEDULER][INFO]Successfully scheduled a job. Id='HD_2ba57ffc-2a77-4eb4-8e8c-924c814030f9_0' \n[2023-03-03T23:21:54.7283561Z][SCHEDULER][INFO]Successfully scheduled a job. Id='HD_2ba57ffc-2a77-4eb4-8e8c-924c814030f9_1' \n[2023-03-03T23:21:54.7869162Z][SCHEDULER][INFO]Successfully scheduled a job. Id='HD_2ba57ffc-2a77-4eb4-8e8c-924c814030f9_3' \n[2023-03-03T23:36:55.198979][GENERATOR][INFO]Trying to sample '3' jobs from the hyperparameter space\n[2023-03-03T23:36:56.3418203Z][SCHEDULER][INFO]Scheduling job, id='HD_2ba57ffc-2a77-4eb4-8e8c-924c814030f9_5' \n[2023-03-03T23:36:56.3158398Z][SCHEDULER][INFO]Scheduling job, id='HD_2ba57ffc-2a77-4eb4-8e8c-924c814030f9_4' \n[2023-03-03T23:36:56.413323][GENERATOR][INFO]Successfully sampled '3' jobs, they will soon be submitted to the execution target.\n[2023-03-03T23:36:56.5087467Z][SCHEDULER][INFO]Scheduling job, id='HD_2ba57ffc-2a77-4eb4-8e8c-924c814030f9_6' \n[2023-03-03T23:36:56.6580586Z][SCHEDULER][INFO]Successfully scheduled a job. Id='HD_2ba57ffc-2a77-4eb4-8e8c-924c814030f9_5' \n[2023-03-03T23:36:56.7479349Z][SCHEDULER][INFO]Successfully scheduled a job. Id='HD_2ba57ffc-2a77-4eb4-8e8c-924c814030f9_4' \n[2023-03-03T23:36:57.0286590Z][SCHEDULER][INFO]Successfully scheduled a job. Id='HD_2ba57ffc-2a77-4eb4-8e8c-924c814030f9_6' \n[2023-03-03T23:37:56.673449][GENERATOR][INFO]Trying to sample '3' jobs from the hyperparameter space\n[2023-03-03T23:37:57.5332926Z][SCHEDULER][INFO]Scheduling job, id='HD_2ba57ffc-2a77-4eb4-8e8c-924c814030f9_7' \n[2023-03-03T23:37:57.6626339Z][SCHEDULER][INFO]Scheduling job, id='HD_2ba57ffc-2a77-4eb4-8e8c-924c814030f9_8' \n[2023-03-03T23:37:57.7706361Z][SCHEDULER][INFO]Scheduling job, id='HD_2ba57ffc-2a77-4eb4-8e8c-924c814030f9_9' \n[2023-03-03T23:37:57.8058936Z][SCHEDULER][INFO]Successfully scheduled a job. Id='HD_2ba57ffc-2a77-4eb4-8e8c-924c814030f9_7' \n[2023-03-03T23:37:57.702143][GENERATOR][INFO]Successfully sampled '3' jobs, they will soon be submitted to the execution target.\n[2023-03-03T23:37:58.1142403Z][SCHEDULER][INFO]Successfully scheduled a job. Id='HD_2ba57ffc-2a77-4eb4-8e8c-924c814030f9_9' \n[2023-03-03T23:37:58.1965027Z][SCHEDULER][INFO]Successfully scheduled a job. Id='HD_2ba57ffc-2a77-4eb4-8e8c-924c814030f9_8' \n[2023-03-03T23:38:57.770047][GENERATOR][INFO]Trying to sample '3' jobs from the hyperparameter space\n[2023-03-03T23:38:58.6614905Z][SCHEDULER][INFO]Scheduling job, id='HD_2ba57ffc-2a77-4eb4-8e8c-924c814030f9_10' \n[2023-03-03T23:38:58.7780527Z][SCHEDULER][INFO]Scheduling job, id='HD_2ba57ffc-2a77-4eb4-8e8c-924c814030f9_11' \n[2023-03-03T23:38:58.839805][GENERATOR][INFO]Successfully sampled '3' jobs, they will soon be submitted to the execution target.\n[2023-03-03T23:38:58.9121673Z][SCHEDULER][INFO]Successfully scheduled a job. Id='HD_2ba57ffc-2a77-4eb4-8e8c-924c814030f9_10' \n[2023-03-03T23:38:58.9357008Z][SCHEDULER][INFO]Scheduling job, id='HD_2ba57ffc-2a77-4eb4-8e8c-924c814030f9_12' \n[2023-03-03T23:38:59.0978497Z][SCHEDULER][INFO]Successfully scheduled a job. Id='HD_2ba57ffc-2a77-4eb4-8e8c-924c814030f9_11' \n[2023-03-03T23:38:59.1937530Z][SCHEDULER][INFO]Successfully scheduled a job. Id='HD_2ba57ffc-2a77-4eb4-8e8c-924c814030f9_12' \n[2023-03-03T23:39:28.830208][GENERATOR][INFO]Trying to sample '1' jobs from the hyperparameter space\n[2023-03-03T23:39:29.600490][GENERATOR][INFO]Successfully sampled '1' jobs, they will soon be submitted to the execution target.\n[2023-03-03T23:39:29.6651188Z][SCHEDULER][INFO]Scheduling job, id='HD_2ba57ffc-2a77-4eb4-8e8c-924c814030f9_13' \n[2023-03-03T23:39:30.2115672Z][SCHEDULER][INFO]Successfully scheduled a job. Id='HD_2ba57ffc-2a77-4eb4-8e8c-924c814030f9_13' \n[2023-03-03T23:39:59.750432][GENERATOR][INFO]Trying to sample '3' jobs from the hyperparameter space\n[2023-03-03T23:40:00.8357784Z][SCHEDULER][INFO]Scheduling job, id='HD_2ba57ffc-2a77-4eb4-8e8c-924c814030f9_14' \n[2023-03-03T23:40:00.9859507Z][SCHEDULER][INFO]Scheduling job, id='HD_2ba57ffc-2a77-4eb4-8e8c-924c814030f9_15' \n[2023-03-03T23:40:01.0569447Z][SCHEDULER][INFO]Scheduling job, id='HD_2ba57ffc-2a77-4eb4-8e8c-924c814030f9_16' \n[2023-03-03T23:40:00.985732][GENERATOR][INFO]Successfully sampled '3' jobs, they will soon be submitted to the execution target.\n[2023-03-03T23:40:01.1562344Z][SCHEDULER][INFO]Successfully scheduled a job. Id='HD_2ba57ffc-2a77-4eb4-8e8c-924c814030f9_14' \n[2023-03-03T23:40:01.2623956Z][SCHEDULER][INFO]Successfully scheduled a job. Id='HD_2ba57ffc-2a77-4eb4-8e8c-924c814030f9_15' \n[2023-03-03T23:40:01.3666818Z][SCHEDULER][INFO]Successfully scheduled a job. Id='HD_2ba57ffc-2a77-4eb4-8e8c-924c814030f9_16' \n[2023-03-03T23:40:30.681981][GENERATOR][INFO]Trying to sample '1' jobs from the hyperparameter space\n[2023-03-03T23:40:31.560952][GENERATOR][INFO]Successfully sampled '1' jobs, they will soon be submitted to the execution target.\n[2023-03-03T23:40:31.6271959Z][SCHEDULER][INFO]Scheduling job, id='HD_2ba57ffc-2a77-4eb4-8e8c-924c814030f9_17' \n[2023-03-03T23:40:31.9956811Z][SCHEDULER][INFO]Successfully scheduled a job. Id='HD_2ba57ffc-2a77-4eb4-8e8c-924c814030f9_17' \n[2023-03-03T23:41:01.765844][GENERATOR][INFO]Trying to sample '2' jobs from the hyperparameter space\n[2023-03-03T23:41:02.9001514Z][SCHEDULER][INFO]Scheduling job, id='HD_2ba57ffc-2a77-4eb4-8e8c-924c814030f9_18' \n[2023-03-03T23:41:03.0311888Z][SCHEDULER][INFO]Scheduling job, id='HD_2ba57ffc-2a77-4eb4-8e8c-924c814030f9_19' \n[2023-03-03T23:41:02.953595][GENERATOR][INFO]Successfully sampled '2' jobs, they will soon be submitted to the execution target.\n[2023-03-03T23:41:03.2191785Z][SCHEDULER][INFO]Successfully scheduled a job. Id='HD_2ba57ffc-2a77-4eb4-8e8c-924c814030f9_18' \n[2023-03-03T23:41:03.4100008Z][SCHEDULER][INFO]Successfully scheduled a job. Id='HD_2ba57ffc-2a77-4eb4-8e8c-924c814030f9_19' \n[2023-03-03T23:42:46.380438][CONTROLLER][INFO]Experiment was 'ExperimentStatus.RUNNING', is 'ExperimentStatus.FINISHED'.\n\nExecution Summary\n=================\nRunId: HD_2ba57ffc-2a77-4eb4-8e8c-924c814030f9\nWeb View: https://ml.azure.com/runs/HD_2ba57ffc-2a77-4eb4-8e8c-924c814030f9?wsid=/subscriptions/a24a24d5-8d87-4c8a-99b6-91ed2d2df51f/resourcegroups/aml-quickstarts-227131/workspaces/quick-starts-ws-227131&tid=660b3398-b80e-49d2-bc5b-ac1dc93b5254\n\n"
        }
      ],
      "execution_count": 4,
      "metadata": {
        "gather": {
          "logged": 1677886989581
        }
      }
    },
    {
      "cell_type": "code",
      "source": [
        "import joblib\n",
        "# Get your best run and save the model from that run.\n",
        "best_run = hyperdrive_run.get_best_run_by_primary_metric()\n",
        "best_run_metrics = best_run.get_metrics()\n",
        "\n",
        "\n",
        "model = best_run.register_model(model_name='Model_HighAccuracy', model_path='./', \n",
        "                                properties={'Accuracy': best_run_metrics['Accuracy'],\n",
        "                                            'Regularization Strength': best_run_metrics['Regularization Strength:'],\n",
        "                                            'Max Iterations': best_run_metrics['Max iterations:']})"
      ],
      "outputs": [],
      "execution_count": 7,
      "metadata": {
        "gather": {
          "logged": 1677887074260
        },
        "jupyter": {
          "outputs_hidden": false,
          "source_hidden": false
        },
        "nteract": {
          "transient": {
            "deleting": false
          }
        }
      }
    },
    {
      "cell_type": "code",
      "source": [
        "from azureml.data.dataset_factory import TabularDatasetFactory\n",
        "\n",
        "# Create TabularDataset using TabularDatasetFactory\n",
        "# Data is available at: \n",
        "# \"https://automlsamplenotebookdata.blob.core.windows.net/automl-sample-notebook-data/bankmarketing_train.csv\"\n",
        "\n",
        "url = \"https://automlsamplenotebookdata.blob.core.windows.net/automl-sample-notebook-data/bankmarketing_train.csv\"\n",
        "\n",
        "dataset = TabularDatasetFactory.from_delimited_files([url])"
      ],
      "outputs": [],
      "execution_count": 8,
      "metadata": {
        "gather": {
          "logged": 1677887096074
        }
      }
    },
    {
      "cell_type": "code",
      "source": [
        "from train import clean_data\n",
        "\n",
        "x, y = clean_data(dataset)"
      ],
      "outputs": [],
      "execution_count": 9,
      "metadata": {
        "gather": {
          "logged": 1677887109641
        },
        "jupyter": {
          "outputs_hidden": false,
          "source_hidden": false
        },
        "nteract": {
          "transient": {
            "deleting": false
          }
        }
      }
    },
    {
      "cell_type": "code",
      "source": [
        "from azureml.train.automl import AutoMLConfig\n",
        "\n",
        "# Set parameters for AutoMLConfig\n",
        "# NOTE: DO NOT CHANGE THE experiment_timeout_minutes PARAMETER OR YOUR INSTANCE WILL TIME OUT.\n",
        "automl_config = AutoMLConfig(\n",
        "    compute_target = aml_compute,\n",
        "    experiment_timeout_minutes=30,\n",
        "    task='classification',\n",
        "    primary_metric='accuracy',\n",
        "    training_data=dataset,\n",
        "    label_column_name='y',\n",
        "    enable_onnx_compatible_models=True,\n",
        "    n_cross_validations=2)"
      ],
      "outputs": [],
      "execution_count": 10,
      "metadata": {
        "gather": {
          "logged": 1677887112109
        },
        "jupyter": {
          "outputs_hidden": false,
          "source_hidden": false
        },
        "nteract": {
          "transient": {
            "deleting": false
          }
        }
      }
    },
    {
      "cell_type": "code",
      "source": [
        "# Submit the automl run\n",
        "automl_run = exp.submit(automl_config, show_output = False)\n",
        "automl_run.wait_for_completion()"
      ],
      "outputs": [
        {
          "output_type": "stream",
          "name": "stdout",
          "text": "Submitting remote run.\n"
        },
        {
          "output_type": "display_data",
          "data": {
            "text/plain": "<IPython.core.display.HTML object>",
            "text/html": "<table style=\"width:100%\"><tr><th>Experiment</th><th>Id</th><th>Type</th><th>Status</th><th>Details Page</th><th>Docs Page</th></tr><tr><td>udacity-project</td><td>AutoML_d8ee9f99-484f-49b3-8700-18a34e923031</td><td>automl</td><td>NotStarted</td><td><a href=\"https://ml.azure.com/runs/AutoML_d8ee9f99-484f-49b3-8700-18a34e923031?wsid=/subscriptions/a24a24d5-8d87-4c8a-99b6-91ed2d2df51f/resourcegroups/aml-quickstarts-227131/workspaces/quick-starts-ws-227131&amp;tid=660b3398-b80e-49d2-bc5b-ac1dc93b5254\" target=\"_blank\" rel=\"noopener\">Link to Azure Machine Learning studio</a></td><td><a href=\"https://docs.microsoft.com/en-us/python/api/overview/azure/ml/intro?view=azure-ml-py\" target=\"_blank\" rel=\"noopener\">Link to Documentation</a></td></tr></table>"
          },
          "metadata": {}
        },
        {
          "output_type": "execute_result",
          "execution_count": 11,
          "data": {
            "text/plain": "{'runId': 'AutoML_d8ee9f99-484f-49b3-8700-18a34e923031',\n 'target': 'compute-cluster',\n 'status': 'Completed',\n 'startTimeUtc': '2023-03-03T23:45:34.899743Z',\n 'endTimeUtc': '2023-03-04T00:24:13.183671Z',\n 'services': {},\n 'warnings': [{'source': 'JasmineService',\n   'message': 'Experiment timeout reached, hence experiment stopped. Current experiment timeout: 0 hour(s) 30 minute(s)'}],\n 'properties': {'num_iterations': '1000',\n  'training_type': 'TrainFull',\n  'acquisition_function': 'EI',\n  'primary_metric': 'accuracy',\n  'train_split': '0',\n  'acquisition_parameter': '0',\n  'num_cross_validation': '2',\n  'target': 'compute-cluster',\n  'AMLSettingsJsonString': '{\"path\":null,\"name\":\"udacity-project\",\"subscription_id\":\"a24a24d5-8d87-4c8a-99b6-91ed2d2df51f\",\"resource_group\":\"aml-quickstarts-227131\",\"workspace_name\":\"quick-starts-ws-227131\",\"region\":\"southcentralus\",\"compute_target\":\"compute-cluster\",\"spark_service\":null,\"azure_service\":\"remote\",\"many_models\":false,\"pipeline_fetch_max_batch_size\":1,\"enable_batch_run\":true,\"enable_parallel_run\":false,\"num_procs\":null,\"enable_run_restructure\":false,\"start_auxiliary_runs_before_parent_complete\":false,\"enable_code_generation\":true,\"iterations\":1000,\"primary_metric\":\"accuracy\",\"task_type\":\"classification\",\"positive_label\":null,\"data_script\":null,\"test_size\":0.0,\"test_include_predictions_only\":false,\"validation_size\":0.0,\"n_cross_validations\":2,\"y_min\":null,\"y_max\":null,\"num_classes\":null,\"featurization\":\"auto\",\"_ignore_package_version_incompatibilities\":false,\"is_timeseries\":false,\"max_cores_per_iteration\":1,\"max_concurrent_iterations\":1,\"iteration_timeout_minutes\":null,\"mem_in_mb\":null,\"enforce_time_on_windows\":false,\"experiment_timeout_minutes\":30,\"experiment_exit_score\":null,\"partition_column_names\":null,\"whitelist_models\":null,\"blacklist_algos\":[\"TensorFlowLinearClassifier\",\"TensorFlowDNN\"],\"supported_models\":[\"AveragedPerceptronClassifier\",\"TensorFlowLinearClassifier\",\"SVM\",\"BernoulliNaiveBayes\",\"DecisionTree\",\"ExtremeRandomTrees\",\"LightGBM\",\"MultinomialNaiveBayes\",\"XGBoostClassifier\",\"TabnetClassifier\",\"SGD\",\"LogisticRegression\",\"RandomForest\",\"KNN\",\"TensorFlowDNN\",\"LinearSVM\",\"GradientBoosting\"],\"private_models\":[],\"auto_blacklist\":true,\"blacklist_samples_reached\":false,\"exclude_nan_labels\":true,\"verbosity\":20,\"_debug_log\":\"azureml_automl.log\",\"show_warnings\":false,\"model_explainability\":true,\"service_url\":null,\"sdk_url\":null,\"sdk_packages\":null,\"enable_onnx_compatible_models\":true,\"enable_split_onnx_featurizer_estimator_models\":false,\"vm_type\":\"STANDARD_D2_V2\",\"telemetry_verbosity\":20,\"send_telemetry\":true,\"enable_dnn\":false,\"scenario\":\"AutoML\",\"environment_label\":null,\"save_mlflow\":false,\"enable_categorical_indicators\":false,\"force_text_dnn\":false,\"enable_feature_sweeping\":false,\"enable_early_stopping\":true,\"early_stopping_n_iters\":10,\"arguments\":null,\"dataset_id\":\"0fdd9f04-887b-4ad5-a18e-63634aebb250\",\"hyperdrive_config\":null,\"validation_dataset_id\":null,\"run_source\":null,\"metrics\":null,\"enable_metric_confidence\":false,\"enable_ensembling\":true,\"enable_stack_ensembling\":false,\"ensemble_iterations\":15,\"enable_tf\":false,\"enable_subsampling\":null,\"subsample_seed\":null,\"enable_nimbusml\":false,\"enable_streaming\":false,\"force_streaming\":false,\"track_child_runs\":true,\"n_best_runs\":1,\"allowed_private_models\":[],\"label_column_name\":\"y\",\"weight_column_name\":null,\"cv_split_column_names\":null,\"enable_local_managed\":false,\"_local_managed_run_id\":null,\"cost_mode\":1,\"lag_length\":0,\"metric_operation\":\"maximize\",\"preprocess\":true}',\n  'DataPrepJsonString': '{\\\\\"training_data\\\\\": {\\\\\"datasetId\\\\\": \\\\\"0fdd9f04-887b-4ad5-a18e-63634aebb250\\\\\"}, \\\\\"datasets\\\\\": 0}',\n  'EnableSubsampling': None,\n  'runTemplate': 'AutoML',\n  'azureml.runsource': 'automl',\n  'display_task_type': 'classification',\n  'dependencies_versions': '{\"azureml-widgets\": \"1.48.0\", \"azureml-training-tabular\": \"1.48.0\", \"azureml-train\": \"1.48.0\", \"azureml-train-restclients-hyperdrive\": \"1.48.0\", \"azureml-train-core\": \"1.48.0\", \"azureml-train-automl\": \"1.48.0\", \"azureml-train-automl-runtime\": \"1.48.0\", \"azureml-train-automl-client\": \"1.48.0\", \"azureml-tensorboard\": \"1.48.0\", \"azureml-telemetry\": \"1.48.0\", \"azureml-sdk\": \"1.48.0\", \"azureml-samples\": \"0+unknown\", \"azureml-responsibleai\": \"1.48.0\", \"azureml-pipeline\": \"1.48.0\", \"azureml-pipeline-steps\": \"1.48.0\", \"azureml-pipeline-core\": \"1.48.0\", \"azureml-opendatasets\": \"1.48.0\", \"azureml-mlflow\": \"1.48.0\", \"azureml-interpret\": \"1.48.0\", \"azureml-inference-server-http\": \"0.7.7\", \"azureml-explain-model\": \"1.48.0\", \"azureml-defaults\": \"1.48.0\", \"azureml-dataset-runtime\": \"1.48.0\", \"azureml-dataprep\": \"4.8.3\", \"azureml-dataprep-rslex\": \"2.15.1\", \"azureml-dataprep-native\": \"38.0.0\", \"azureml-datadrift\": \"1.48.0\", \"azureml-core\": \"1.48.0\", \"azureml-contrib-services\": \"1.48.0\", \"azureml-contrib-server\": \"1.48.0\", \"azureml-contrib-reinforcementlearning\": \"1.48.0\", \"azureml-contrib-pipeline-steps\": \"1.48.0\", \"azureml-contrib-notebook\": \"1.48.0\", \"azureml-contrib-fairness\": \"1.48.0\", \"azureml-contrib-dataset\": \"1.48.0\", \"azureml-contrib-automl-pipeline-steps\": \"1.48.0\", \"azureml-cli-common\": \"1.48.0\", \"azureml-automl-runtime\": \"1.48.0.post1\", \"azureml-automl-dnn-nlp\": \"1.48.0\", \"azureml-automl-core\": \"1.48.0\", \"azureml-accel-models\": \"1.48.0\"}',\n  '_aml_system_scenario_identification': 'Remote.Parent',\n  'ClientType': 'SDK',\n  'environment_cpu_name': 'AzureML-AutoML',\n  'environment_cpu_label': 'nimbus-deprecation',\n  'environment_gpu_name': 'AzureML-AutoML-GPU',\n  'environment_gpu_label': 'prod',\n  'root_attribution': 'automl',\n  'attribution': 'AutoML',\n  'Orchestrator': 'AutoML',\n  'CancelUri': 'https://southcentralus.api.azureml.ms/jasmine/v1.0/subscriptions/a24a24d5-8d87-4c8a-99b6-91ed2d2df51f/resourceGroups/aml-quickstarts-227131/providers/Microsoft.MachineLearningServices/workspaces/quick-starts-ws-227131/experimentids/740e4b72-c96d-4539-b09d-1f299dd4acfc/cancel/AutoML_d8ee9f99-484f-49b3-8700-18a34e923031',\n  'ClientSdkVersion': '1.48.0.post1',\n  'snapshotId': '00000000-0000-0000-0000-000000000000',\n  'SetupRunId': 'AutoML_d8ee9f99-484f-49b3-8700-18a34e923031_setup',\n  'SetupRunContainerId': 'dcid.AutoML_d8ee9f99-484f-49b3-8700-18a34e923031_setup',\n  'FeaturizationRunJsonPath': 'featurizer_container.json',\n  'FeaturizationRunId': 'AutoML_d8ee9f99-484f-49b3-8700-18a34e923031_featurize',\n  'ProblemInfoJsonString': '{\"dataset_num_categorical\": 0, \"is_sparse\": true, \"subsampling\": false, \"has_extra_col\": true, \"dataset_classes\": 2, \"dataset_features\": 132, \"dataset_samples\": 32950, \"single_frequency_class_detected\": false}',\n  'ModelExplainRunId': 'AutoML_d8ee9f99-484f-49b3-8700-18a34e923031_ModelExplain'},\n 'inputDatasets': [{'dataset': {'id': '0fdd9f04-887b-4ad5-a18e-63634aebb250'}, 'consumptionDetails': {'type': 'RunInput', 'inputName': 'training_data', 'mechanism': 'Direct'}}],\n 'outputDatasets': [],\n 'logFiles': {},\n 'submittedBy': 'ODL_User 227131'}"
          },
          "metadata": {}
        }
      ],
      "execution_count": 11,
      "metadata": {
        "gather": {
          "logged": 1677889459695
        },
        "jupyter": {
          "outputs_hidden": false,
          "source_hidden": false
        },
        "nteract": {
          "transient": {
            "deleting": false
          }
        }
      }
    },
    {
      "cell_type": "code",
      "source": [
        "# Retrieve and save your best automl model.\n",
        "best_run, fitted_model = automl_run.get_output()\n",
        "\n",
        "best_run_metrics = best_run.get_metrics()\n",
        "\n",
        "model = best_run.register_model(model_name='AutoML_HighAccuracy', model_path='./')"
      ],
      "outputs": [],
      "execution_count": 12,
      "metadata": {
        "gather": {
          "logged": 1677889524382
        },
        "jupyter": {
          "outputs_hidden": false,
          "source_hidden": false
        },
        "nteract": {
          "transient": {
            "deleting": false
          }
        }
      }
    },
    {
      "cell_type": "code",
      "source": [
        "# Cluster clean up\n",
        "\n",
        "aml_compute.delete()"
      ],
      "outputs": [],
      "execution_count": 13,
      "metadata": {
        "gather": {
          "logged": 1677889525001
        }
      }
    }
  ],
  "metadata": {
    "kernel_info": {
      "name": "python3"
    },
    "kernelspec": {
      "name": "python3",
      "language": "python",
      "display_name": "Python 3 (ipykernel)"
    },
    "language_info": {
      "name": "python",
      "version": "3.8.5",
      "mimetype": "text/x-python",
      "codemirror_mode": {
        "name": "ipython",
        "version": 3
      },
      "pygments_lexer": "ipython3",
      "nbconvert_exporter": "python",
      "file_extension": ".py"
    },
    "microsoft": {
      "host": {
        "AzureML": {
          "notebookHasBeenCompleted": true
        }
      },
      "ms_spell_check": {
        "ms_spell_check_language": "en"
      }
    },
    "nteract": {
      "version": "nteract-front-end@1.0.0"
    },
    "vscode": {
      "interpreter": {
        "hash": "5c7b89af1651d0b8571dde13640ecdccf7d5a6204171d6ab33e7c296e100e08a"
      }
    }
  },
  "nbformat": 4,
  "nbformat_minor": 2
}